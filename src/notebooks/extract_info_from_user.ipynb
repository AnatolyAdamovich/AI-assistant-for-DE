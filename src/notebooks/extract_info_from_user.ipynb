{
 "cells": [
  {
   "cell_type": "code",
   "execution_count": null,
   "metadata": {},
   "outputs": [],
   "source": [
    "TOKEN = \"<YOUR TOKEN>\""
   ]
  },
  {
   "cell_type": "code",
   "execution_count": 2,
   "metadata": {},
   "outputs": [],
   "source": [
    "from typing import List, Dict, Optional\n",
    "from pydantic import BaseModel\n",
    "\n",
    "\n",
    "class DataSource(BaseModel):\n",
    "    name: str\n",
    "    description: str\n",
    "    data_schema: Dict[str, str] # column_name: type\n",
    "    type: str  # 'table', 'csv', 'api', etc.\n",
    "    database: str\n",
    "    access_method: str | None = None\n",
    "    limitations: Optional[str] | None = None\n",
    "    recommendations: List[str] | None = None\n",
    "    connection_params: Dict[str, str] | None = None\n",
    "\n",
    "class Metric(BaseModel):\n",
    "    name: str\n",
    "    description: str\n",
    "    calculation_method: str | None = None  # SQL or pseudo-code\n",
    "    visualization_method: str | None = None # e.g. barchart, \"гистограмма\" и т.д.\n",
    "\n",
    "class DWH(BaseModel):\n",
    "    database: str\n",
    "    structure: Dict[str, str] | None = None\n",
    "    limitations: Optional[str] | None = None\n",
    "    connection_params: Dict[str, str] | None = None\n",
    "\n",
    "class BusinessProcess(BaseModel):\n",
    "    name: str\n",
    "    description: str\n",
    "    schedule: str\n",
    "    roles: List[Dict[str, str]] | None = None\n",
    "    goals: List[str] | None = None\n",
    "    limitations: Optional[str] | None = None\n",
    "\n",
    "class Transformation(BaseModel):\n",
    "    name: str\n",
    "    logic: str # SQL or pseudo-code\n",
    "\n",
    "class AnalyticsSpec(BaseModel):\n",
    "    business_process: BusinessProcess\n",
    "    data_sources: List[DataSource]\n",
    "    metrics: List[Metric]\n",
    "    dwh: DWH\n",
    "    transformations: List[Transformation]"
   ]
  },
  {
   "cell_type": "code",
   "execution_count": 9,
   "metadata": {},
   "outputs": [],
   "source": [
    "user_data = \"\"\"\n",
    "Мы хотим построить аналитику для интернет-магазина.\n",
    "Основная цель — анализировать продажи и поведение покупателей, чтобы повысить выручку и оптимизировать маркетинговые кампании.\n",
    "Пользователи аналитики — менеджеры по продажам и маркетологи.\n",
    "\n",
    "Данные хранятся в PostgreSQL. Есть две основные таблицы:\n",
    "\n",
    "orders: содержит информацию о заказах (order_id, product_id, timestamp, customer_id, amount)\n",
    "customers: содержит информацию о клиентах (customer_id, name, region_id, age)\n",
    "Ключевые метрики:\n",
    "\n",
    "* Общая сумма продаж по дням\n",
    "* Количество уникальных покупателей по регионам\n",
    "* Средний чек\n",
    "\n",
    "Данные должны обновляться ежедневно, желательно ночью в промежуток между 00:00 и 05:00.\n",
    "В дальнейшем планируется добавить витрины для анализа повторных покупок и сегментации клиентов.\n",
    "Важно учитывать возможные ограничения по GDPR.\n",
    "\"\"\""
   ]
  },
  {
   "cell_type": "code",
   "execution_count": 15,
   "metadata": {},
   "outputs": [],
   "source": [
    "from langchain_core.prompts import ChatPromptTemplate\n",
    "from langchain_openai import ChatOpenAI\n",
    "from langchain_core.output_parsers import JsonOutputParser\n",
    "\n",
    "\n",
    "llm = ChatOpenAI(\n",
    "    model=\"just-ai/gigachat/GigaChat-2-Pro\",\n",
    "    temperature=0,\n",
    "    max_tokens=None,\n",
    "    timeout=None,\n",
    "    max_retries=2,\n",
    "    api_key=TOKEN,\n",
    "    base_url=\"https://caila.io/api/adapters/openai\"\n",
    ")\n"
   ]
  },
  {
   "cell_type": "code",
   "execution_count": null,
   "metadata": {},
   "outputs": [],
   "source": [
    "\n",
    "system_template = \"\"\"\n",
    "Ты опытный аналитик данных, собирающий информацию от пользователя для дальнейшего построения аналитической системы \n",
    "(ETL/ETL-пайплайны, хранилище данных, дашборды).\n",
    "\n",
    "Твоя задача - извлечь из пользовательского описания полезную информацию и структурировать её в следующем виде:\n",
    "{{\n",
    "  \"business_process\": {{\n",
    "    \"name\": str,\n",
    "    \"description\": str,\n",
    "    \"schedule\": \"\",  # как часто надо обновлять данные\n",
    "    \"roles\": [ {{\"role\": str}}, ... ], # кто будет использовать систему\n",
    "    \"goals\": [str, ...], # какие цели хочется достичь\n",
    "    \"limitations\": str | null # какие-то ограничения\n",
    "  }},\n",
    "  \"data_sources\": [\n",
    "    {{\n",
    "      \"name\": str,\n",
    "      \"description\": str,\n",
    "      \"data_schema\": {{ \"column_name\": \"type\", ... }},\n",
    "      \"type\": str,\n",
    "      \"database\": str,\n",
    "      \"access_method\": str | null,\n",
    "      \"limitations\": str | null,\n",
    "      \"recommendations\": [str, ...] | null,\n",
    "      \"connection_params\": {{ \"param\": \"value\", ... }} | null\n",
    "    }},\n",
    "    ...\n",
    "  ],\n",
    "  \"metrics\": [\n",
    "    {{\n",
    "      \"name\": str,\n",
    "      \"description\": str,\n",
    "      \"calculation_method\": str | null,\n",
    "      \"visualization_method\": str | null\n",
    "    }},\n",
    "    ...\n",
    "  ],\n",
    "  \"dwh\": {{\n",
    "    \"database\": str,\n",
    "    \"structure\": {{ \"table\": \"description\", ... }} | null,\n",
    "    \"limitations\": str | null,\n",
    "    \"connection_params\": {{ \"param\": \"value\", ... }} | null\n",
    "  }},\n",
    "  \"transformations\": [\n",
    "    {{\n",
    "      \"name\": str,\n",
    "      \"logic\": str\n",
    "    }}\n",
    "  ]\n",
    "}}\n",
    "\n",
    "Требования:\n",
    "1) формат вывода - строго валидный JSON\n",
    "2) если какой-то информации нет, оставь поле пустым (либо None)\n",
    "\n",
    "\"\"\"\n",
    "user_template = \"{user_data}\"\n",
    "\n",
    "prompt_template = ChatPromptTemplate.from_messages(\n",
    "    [(\"system\", system_template),\n",
    "     (\"user\", user_template)]\n",
    ")\n",
    "\n",
    "parser = JsonOutputParser()\n",
    "\n",
    "chain = prompt_template | llm | parser\n"
   ]
  },
  {
   "cell_type": "code",
   "execution_count": 17,
   "metadata": {},
   "outputs": [],
   "source": [
    "\n",
    "result = chain.invoke(\n",
    "    {\n",
    "        'user_data': user_data\n",
    "    }\n",
    ")"
   ]
  },
  {
   "cell_type": "code",
   "execution_count": 18,
   "metadata": {},
   "outputs": [
    {
     "data": {
      "text/plain": [
       "{'business_process': {'name': 'Анализ продаж и поведения покупателей интернет-магазина',\n",
       "  'description': 'Анализировать продажи и поведение покупателей для повышения выручки и оптимизации маркетинговых кампаний',\n",
       "  'schedule': 'ежедневно, ночью в промежуток между 00:00 и 05:00',\n",
       "  'roles': [{'role': 'менеджеры по продажам'}, {'role': 'маркетологи'}],\n",
       "  'goals': ['повышение выручки', 'оптимизация маркетинговых кампаний'],\n",
       "  'limitations': 'ограничения по GDPR'},\n",
       " 'data_sources': [{'name': 'orders',\n",
       "   'description': 'информация о заказах',\n",
       "   'data_schema': {'order_id': 'int',\n",
       "    'product_id': 'int',\n",
       "    'timestamp': 'timestamp',\n",
       "    'customer_id': 'int',\n",
       "    'amount': 'float'},\n",
       "   'type': 'таблица',\n",
       "   'database': 'PostgreSQL',\n",
       "   'access_method': None,\n",
       "   'limitations': None,\n",
       "   'recommendations': None,\n",
       "   'connection_params': None},\n",
       "  {'name': 'customers',\n",
       "   'description': 'информация о клиентах',\n",
       "   'data_schema': {'customer_id': 'int',\n",
       "    'name': 'string',\n",
       "    'region_id': 'int',\n",
       "    'age': 'int'},\n",
       "   'type': 'таблица',\n",
       "   'database': 'PostgreSQL',\n",
       "   'access_method': None,\n",
       "   'limitations': None,\n",
       "   'recommendations': None,\n",
       "   'connection_params': None}],\n",
       " 'metrics': [{'name': 'Общая сумма продаж по дням',\n",
       "   'description': 'сумма продаж за каждый день',\n",
       "   'calculation_method': 'суммирование поля amount по дням',\n",
       "   'visualization_method': None},\n",
       "  {'name': 'Количество уникальных покупателей по регионам',\n",
       "   'description': 'количество уникальных покупателей в каждом регионе',\n",
       "   'calculation_method': 'подсчет уникальных customer_id по region_id',\n",
       "   'visualization_method': None},\n",
       "  {'name': 'Средний чек',\n",
       "   'description': 'средняя сумма заказа',\n",
       "   'calculation_method': 'среднее значение поля amount',\n",
       "   'visualization_method': None}],\n",
       " 'dwh': {'database': 'PostgreSQL',\n",
       "  'structure': None,\n",
       "  'limitations': None,\n",
       "  'connection_params': None},\n",
       " 'transformations': []}"
      ]
     },
     "execution_count": 18,
     "metadata": {},
     "output_type": "execute_result"
    }
   ],
   "source": [
    "result"
   ]
  },
  {
   "cell_type": "code",
   "execution_count": 23,
   "metadata": {},
   "outputs": [
    {
     "data": {
      "text/plain": [
       "AnalyticsSpec(business_process=BusinessProcess(name='Анализ продаж и поведения покупателей интернет-магазина', description='Анализировать продажи и поведение покупателей для повышения выручки и оптимизации маркетинговых кампаний', schedule='ежедневно, ночью в промежуток между 00:00 и 05:00', roles=[{'role': 'менеджеры по продажам'}, {'role': 'маркетологи'}], goals=['повышение выручки', 'оптимизация маркетинговых кампаний'], limitations='ограничения по GDPR'), data_sources=[DataSource(name='orders', description='информация о заказах', data_schema={'order_id': 'int', 'product_id': 'int', 'timestamp': 'timestamp', 'customer_id': 'int', 'amount': 'float'}, type='таблица', database='PostgreSQL', access_method=None, limitations=None, recommendations=None, connection_params=None), DataSource(name='customers', description='информация о клиентах', data_schema={'customer_id': 'int', 'name': 'string', 'region_id': 'int', 'age': 'int'}, type='таблица', database='PostgreSQL', access_method=None, limitations=None, recommendations=None, connection_params=None)], metrics=[Metric(name='Общая сумма продаж по дням', description='сумма продаж за каждый день', calculation_method='суммирование поля amount по дням', visualization_method=None), Metric(name='Количество уникальных покупателей по регионам', description='количество уникальных покупателей в каждом регионе', calculation_method='подсчет уникальных customer_id по region_id', visualization_method=None), Metric(name='Средний чек', description='средняя сумма заказа', calculation_method='среднее значение поля amount', visualization_method=None)], dwh=DWH(database='PostgreSQL', structure=None, limitations=None, connection_params=None), transformations=[])"
      ]
     },
     "execution_count": 23,
     "metadata": {},
     "output_type": "execute_result"
    }
   ],
   "source": [
    "business_process = BusinessProcess(**result['business_process'])\n",
    "data_sources = [DataSource(**ds) for ds in result['data_sources']]\n",
    "metrics = [Metric(**m) for m in result['metrics']]\n",
    "dwh = DWH(**result['dwh'])\n",
    "transformations = [Transformation(**t) for t in result['transformations']]\n",
    "\n",
    "spec = AnalyticsSpec(business_process=business_process,\n",
    "                     data_sources=data_sources,\n",
    "                     metrics=metrics,\n",
    "                     dwh=dwh,\n",
    "                     transformations=transformations)\n",
    "spec"
   ]
  },
  {
   "cell_type": "code",
   "execution_count": 22,
   "metadata": {},
   "outputs": [
    {
     "data": {
      "text/plain": [
       "[DataSource(name='orders', description='информация о заказах', data_schema={'order_id': 'int', 'product_id': 'int', 'timestamp': 'timestamp', 'customer_id': 'int', 'amount': 'float'}, type='таблица', database='PostgreSQL', access_method=None, limitations=None, recommendations=None, connection_params=None),\n",
       " DataSource(name='customers', description='информация о клиентах', data_schema={'customer_id': 'int', 'name': 'string', 'region_id': 'int', 'age': 'int'}, type='таблица', database='PostgreSQL', access_method=None, limitations=None, recommendations=None, connection_params=None)]"
      ]
     },
     "execution_count": 22,
     "metadata": {},
     "output_type": "execute_result"
    }
   ],
   "source": [
    "data_sources"
   ]
  }
 ],
 "metadata": {
  "kernelspec": {
   "display_name": "venv",
   "language": "python",
   "name": "python3"
  },
  "language_info": {
   "codemirror_mode": {
    "name": "ipython",
    "version": 3
   },
   "file_extension": ".py",
   "mimetype": "text/x-python",
   "name": "python",
   "nbconvert_exporter": "python",
   "pygments_lexer": "ipython3",
   "version": "3.10.12"
  }
 },
 "nbformat": 4,
 "nbformat_minor": 5
}
