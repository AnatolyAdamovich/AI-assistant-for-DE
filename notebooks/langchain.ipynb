{
 "cells": [
  {
   "cell_type": "code",
   "execution_count": null,
   "id": "0e3eb16f",
   "metadata": {},
   "outputs": [],
   "source": [
    "TOKEN = \"<YOUR API_KEY>\""
   ]
  },
  {
   "cell_type": "markdown",
   "id": "b08bfd86",
   "metadata": {},
   "source": [
    "# База"
   ]
  },
  {
   "cell_type": "code",
   "execution_count": 11,
   "id": "01260abe",
   "metadata": {},
   "outputs": [],
   "source": [
    "from langchain_openai import ChatOpenAI\n",
    "\n",
    "\n",
    "llm = ChatOpenAI(\n",
    "    model=\"just-ai/claude/claude-3-5-sonnet\",\n",
    "    temperature=0,\n",
    "    max_tokens=None,\n",
    "    timeout=None,\n",
    "    max_retries=2,\n",
    "    api_key=TOKEN,\n",
    "    base_url=\"https://caila.io/api/adapters/openai\"\n",
    ")"
   ]
  },
  {
   "cell_type": "code",
   "execution_count": null,
   "id": "5c9fefdf",
   "metadata": {},
   "outputs": [],
   "source": [
    "from langchain_core.prompts import ChatPromptTemplate\n",
    "\n",
    "system_template = \"Translate the following from English into {language}\"\n",
    "user_template = \"Hello everybody\"\n",
    "\n",
    "prompt_template = ChatPromptTemplate.from_messages(\n",
    "    [(\"system\", system_template),\n",
    "     (\"user\", user_template)]\n",
    ")"
   ]
  },
  {
   "cell_type": "code",
   "execution_count": 9,
   "id": "076bbe4e",
   "metadata": {},
   "outputs": [
    {
     "data": {
      "text/plain": [
       "ChatPromptValue(messages=[SystemMessage(content='Translate the following from English into Russian', additional_kwargs={}, response_metadata={}), HumanMessage(content='Hello everybody', additional_kwargs={}, response_metadata={})])"
      ]
     },
     "execution_count": 9,
     "metadata": {},
     "output_type": "execute_result"
    }
   ],
   "source": [
    "prompt_template.invoke({'language': 'Russian'})"
   ]
  },
  {
   "cell_type": "code",
   "execution_count": 10,
   "id": "cb7479df",
   "metadata": {},
   "outputs": [
    {
     "data": {
      "text/plain": [
       "AIMessage(content='Здравствуйте все / Привет всем\\n\\nNote: \"Здравствуйте\" is more formal, while \"Привет\" is informal.', additional_kwargs={'refusal': None}, response_metadata={'token_usage': {'completion_tokens': 42, 'prompt_tokens': 17, 'total_tokens': 59, 'completion_tokens_details': None, 'prompt_tokens_details': None}, 'model_name': 'claude-3-5-sonnet-20241022', 'system_fingerprint': None, 'id': '5d716e11-5fea-447f-a309-f30b5e5a74a6', 'finish_reason': None, 'logprobs': None}, id='run-951a2f4f-c258-4037-a855-0155bf663a03-0', usage_metadata={'input_tokens': 17, 'output_tokens': 42, 'total_tokens': 59, 'input_token_details': {}, 'output_token_details': {}})"
      ]
     },
     "execution_count": 10,
     "metadata": {},
     "output_type": "execute_result"
    }
   ],
   "source": [
    "chain = prompt_template | llm\n",
    "chain.invoke(\n",
    "    {\n",
    "        'language': 'Russian'\n",
    "    }\n",
    ")"
   ]
  },
  {
   "cell_type": "markdown",
   "id": "6ed2c54c",
   "metadata": {},
   "source": [
    "# Генерация кода для Export-шага"
   ]
  },
  {
   "cell_type": "code",
   "execution_count": 4,
   "id": "90dc1c46",
   "metadata": {},
   "outputs": [],
   "source": [
    "MODEL = \"just-ai/openai-proxy/gpt-4.1\"\n",
    "TEMPERATURE = 0"
   ]
  },
  {
   "cell_type": "code",
   "execution_count": 5,
   "id": "2c5f431a",
   "metadata": {},
   "outputs": [],
   "source": [
    "from langchain_openai import ChatOpenAI\n",
    "\n",
    "\n",
    "llm = ChatOpenAI(\n",
    "    model=MODEL,\n",
    "    temperature=TEMPERATURE,\n",
    "    max_tokens=None,\n",
    "    timeout=None,\n",
    "    max_retries=2,\n",
    "    api_key=TOKEN,\n",
    "    base_url=\"https://caila.io/api/adapters/openai\"\n",
    ")"
   ]
  },
  {
   "cell_type": "code",
   "execution_count": 14,
   "id": "0c9350b9",
   "metadata": {},
   "outputs": [],
   "source": [
    "from typing import List, Dict, Optional\n",
    "from pydantic import BaseModel\n",
    "\n",
    "class DataSource(BaseModel):\n",
    "    name: str\n",
    "    description: str\n",
    "    data_schema: Dict[str, str] # column_name: type\n",
    "    type: str  # 'table', 'csv', 'api', etc.\n",
    "    database: str\n",
    "    access_method: str | None = None\n",
    "    limitations: Optional[str] | None = None\n",
    "    recommendations: List[str] | None = None\n",
    "    connection_params: Dict[str, str] | None = None\n",
    "\n",
    "\n",
    "ds_customers = DataSource(\n",
    "        name=\"customers\",\n",
    "        description=\"Таблица клиентов\",\n",
    "        data_schema={\"customer_id\": \"Int64\", \n",
    "                     \"name\": \"Text\", \n",
    "                     \"position\": \"Text\",\n",
    "                     \"Age\": \"Int64\",\n",
    "                     \"tariff\": \"Json\"},\n",
    "        type=\"table\",\n",
    "        database=\"ClickHouse\",\n",
    "    )"
   ]
  },
  {
   "cell_type": "code",
   "execution_count": null,
   "id": "1b702b1b",
   "metadata": {},
   "outputs": [],
   "source": [
    "from langchain_core.prompts import ChatPromptTemplate\n",
    "\n",
    "system_template = (\n",
    "    \"You are an experienced Python data engineer writing code for an Airflow DAG. \" \\\n",
    ")\n",
    "\n",
    "# user_template = (\n",
    "#     \"Implement a function def export_data_from_source(**context) -> None for an Airflow DAG.\\n\"\n",
    "#     \"- The data source has the following properties:\\n\"\n",
    "#     \"  - database: {database}\\n\"\n",
    "#     \"  - table name: {name}\\n\"\n",
    "#     \"  - data schema: {data_schema}\\n\"\n",
    "#     \"- Use the appropriate Airflow connection for the database type (for example, PostgresHook(\\\"<name>_source\\\") for PostgreSQL or ClickHouseHook(\\\"<name>_source)\\\" for Clickhouse).\\n\"\n",
    "#     \"- Use only standard and popular open-source Python libraries (such as pandas, psycopg2). \\n\"\n",
    "#     \"- Save the extracted data to a file in a suitable format (CSV, JSON, Parquet, etc). Preferably CSV.\\n\"\n",
    "#     \"- Add a docstring in Russian that describes what the function does.\\n\"\n",
    "#     \"- Do not add any comments or explanations outside the function code.\\n\"\n",
    "#     \"- Return only the function code.\"\n",
    "# )\n",
    "\n",
    "user_template = (\n",
    "    \"Implement a function def export_and_load_data_from_source(**context) -> None for an Airflow DAG.\\n\"\n",
    "    \"- The data source has the following properties: {data_source} \\n\"\n",
    "    \"- Use the appropriate Airflow connection for the database type (for example, PostgresHook(\\\"<name>_source\\\") for PostgreSQL or ClickHouseHook(\\\"<name>_source)\\\" for Clickhouse).\\n\"\n",
    "    \"- Use only standard and popular open-source Python libraries (such as pandas, psycopg2). \\n\"\n",
    "    \"- Save the extracted data to a file in a suitable format (CSV, JSON, Parquet, etc). Preferably CSV.\\n\"\n",
    "    \"- Add a docstring in Russian that describes what the function does.\\n\"\n",
    "    \"- Do not add any comments or explanations outside the function code.\\n\"\n",
    "    \"- Return only the function code.\"\n",
    ")\n",
    "\n",
    "\n",
    "prompt_template = ChatPromptTemplate.from_messages(\n",
    "    [(\"system\", system_template),\n",
    "     (\"user\", user_template)]\n",
    ")"
   ]
  },
  {
   "cell_type": "code",
   "execution_count": 16,
   "id": "f53dcafe",
   "metadata": {},
   "outputs": [],
   "source": [
    "chain = prompt_template | llm\n",
    "# result = chain.invoke(\n",
    "#     {\"database\": ds_customers.database,\n",
    "#      \"name\": ds_customers.name,\n",
    "#      \"data_schema\": ds_customers.data_schema}\n",
    "# )\n",
    "\n",
    "result = chain.invoke(\n",
    "    {\"data_source\": ds_customers}\n",
    ")"
   ]
  },
  {
   "cell_type": "code",
   "execution_count": 17,
   "id": "8022f8b9",
   "metadata": {},
   "outputs": [
    {
     "data": {
      "text/plain": [
       "'```python\\ndef export_data_from_source(**context) -> None:\\n    \"\"\"\\n    Экспортирует данные из источника ClickHouse, используя соответствующий Airflow Hook.\\n    Данные из таблицы \\'customers\\' сохраняются в формате CSV.\\n    \"\"\"\\n    from airflow.providers.clickhouse.hooks.clickhouse import ClickHouseHook\\n    import pandas as pd\\n\\n    # Создание подключения к ClickHouse\\n    hook = ClickHouseHook(\\'clickhouse_default\\')\\n\\n    # SQL запрос для выборки данных\\n    sql = \"SELECT * FROM customers\"\\n\\n    # Выполнение запроса и загрузка данных в DataFrame\\n    df = hook.get_pandas_df(sql)\\n\\n    # Сохранение данных в CSV файл\\n    df.to_csv(\\'/path/to/output/customers_data.csv\\', index=False)\\n```'"
      ]
     },
     "execution_count": 17,
     "metadata": {},
     "output_type": "execute_result"
    }
   ],
   "source": [
    "result.content"
   ]
  },
  {
   "cell_type": "code",
   "execution_count": null,
   "id": "21c7d8a1",
   "metadata": {},
   "outputs": [],
   "source": [
    "import re\n",
    "\n",
    "def clean_code(code_str: str) -> str:\n",
    "    # убрать обрамление ``` или ```python и оставить только содержимое\n",
    "    pattern = r\"```(?:python)?\\n(.*?)```\"\n",
    "    matches = re.findall(pattern, code_str, re.DOTALL)\n",
    "    if matches:\n",
    "        # если несколько блоков, объединяем их через 2 перевода строки\n",
    "        return \"\\n\\n\".join(match.strip() for match in matches)\n",
    "    return code_str.strip()\n",
    "\n",
    "cleaned_result = clean_code(result.content)"
   ]
  },
  {
   "cell_type": "code",
   "execution_count": 19,
   "id": "ad18c3dd",
   "metadata": {},
   "outputs": [
    {
     "data": {
      "text/plain": [
       "'def export_data_from_source(**context) -> None:\\n    \"\"\"\\n    Экспортирует данные из источника ClickHouse, используя соответствующий Airflow Hook.\\n    Данные из таблицы \\'customers\\' сохраняются в формате CSV.\\n    \"\"\"\\n    from airflow.providers.clickhouse.hooks.clickhouse import ClickHouseHook\\n    import pandas as pd\\n\\n    # Создание подключения к ClickHouse\\n    hook = ClickHouseHook(\\'clickhouse_default\\')\\n\\n    # SQL запрос для выборки данных\\n    sql = \"SELECT * FROM customers\"\\n\\n    # Выполнение запроса и загрузка данных в DataFrame\\n    df = hook.get_pandas_df(sql)\\n\\n    # Сохранение данных в CSV файл\\n    df.to_csv(\\'/path/to/output/customers_data.csv\\', index=False)'"
      ]
     },
     "execution_count": 19,
     "metadata": {},
     "output_type": "execute_result"
    }
   ],
   "source": [
    "cleaned_result"
   ]
  },
  {
   "cell_type": "code",
   "execution_count": 20,
   "id": "4a0d749f",
   "metadata": {},
   "outputs": [],
   "source": [
    "with open(f\"results/export/airflow_template_3_{MODEL.split('/')[-1].replace('-', '_')}.py\", \n",
    "          \"w\", encoding=\"utf-8\") as f:\n",
    "    f.write(cleaned_result)"
   ]
  },
  {
   "cell_type": "markdown",
   "id": "684b1f12",
   "metadata": {},
   "source": [
    "# Собираем цепочку для генерации пайплайна"
   ]
  },
  {
   "cell_type": "code",
   "execution_count": null,
   "id": "55017946",
   "metadata": {},
   "outputs": [],
   "source": [
    "from langchain_openai import ChatOpenAI\n",
    "\n",
    "MODEL = \"just-ai/openai-proxy/gpt-4.1\"\n",
    "TEMPERATURE = 0\n",
    "\n",
    "llm = ChatOpenAI(\n",
    "    model=MODEL,\n",
    "    temperature=TEMPERATURE,\n",
    "    max_tokens=None,\n",
    "    timeout=None,\n",
    "    max_retries=2,\n",
    "    api_key=TOKEN,\n",
    "    base_url=\"https://caila.io/api/adapters/openai\"\n",
    ")"
   ]
  },
  {
   "cell_type": "code",
   "execution_count": null,
   "id": "44b76ec2",
   "metadata": {},
   "outputs": [],
   "source": [
    "from langchain_core.prompts import ChatPromptTemplate\n",
    "\n",
    "system_template = (\n",
    "    \"You are an experienced Python data engineer writing code for an Airflow DAG. \"\n",
    ")\n",
    "\n",
    "user_template = (\n",
    "    \"Implement a function def export_data_from_source(**context) -> None for an Airflow DAG.\\n\"\n",
    "    \"- The data source has the following properties:\\n\"\n",
    "    \"  - database: {database}\\n\"\n",
    "    \"  - table name: {name}\\n\"\n",
    "    \"  - data schema: {data_schema}\\n\"\n",
    "    \"- Use the appropriate Airflow connection for the database type (for example, PostgresHook(\\\"<name>_source\\\") for PostgreSQL or ClickHouseHook(\\\"<name>_source)\\\" for Clickhouse).\\n\"\n",
    "    \"- Use only standard and popular open-source Python libraries (such as pandas, psycopg2). \\n\"\n",
    "    \"- Save the extracted data to a file in a suitable format (CSV, JSON, Parquet, etc). Preferably CSV.\\n\"\n",
    "    \"- Add a docstring in Russian that describes what the function does.\\n\"\n",
    "    \"- Do not add any comments or explanations outside the function code.\\n\"\n",
    "    \"- Return only the function code.\"\n",
    ")\n",
    "\n",
    "prompt_template = ChatPromptTemplate.from_messages(\n",
    "    [(\"system\", system_template),\n",
    "     (\"user\", user_template)]\n",
    ")"
   ]
  },
  {
   "cell_type": "code",
   "execution_count": null,
   "id": "b5f0343f",
   "metadata": {},
   "outputs": [],
   "source": [
    "from typing import List, Dict, Optional\n",
    "from pydantic import BaseModel\n",
    "\n",
    "class DataSource(BaseModel):\n",
    "    name: str\n",
    "    description: str\n",
    "    data_schema: Dict[str, str] # column_name: type\n",
    "    type: str  # 'table', 'csv', 'api', etc.\n",
    "    database: str\n",
    "    access_method: str | None = None\n",
    "    limitations: Optional[str] | None = None\n",
    "    recommendations: List[str] | None = None\n",
    "    connection_params: Dict[str, str] | None = None\n",
    "\n",
    "ds_customers = DataSource(\n",
    "        name=\"customers\",\n",
    "        description=\"Таблица клиентов\",\n",
    "        data_schema={\"customer_id\": \"Int64\", \"name\": \"Text\", \"region_id\": \"Int64\", \n",
    "                     \"position\": \"Text\", \"Age\": \"Int64\"},\n",
    "        type=\"table\",\n",
    "        database=\"PostgreSQL\",\n",
    "        access_method=None,\n",
    "        limitations=None,\n",
    "        recommendations=[\"экспортировать данные ежедневно по ночам\"]\n",
    "    )"
   ]
  }
 ],
 "metadata": {
  "kernelspec": {
   "display_name": "venv",
   "language": "python",
   "name": "python3"
  },
  "language_info": {
   "codemirror_mode": {
    "name": "ipython",
    "version": 3
   },
   "file_extension": ".py",
   "mimetype": "text/x-python",
   "name": "python",
   "nbconvert_exporter": "python",
   "pygments_lexer": "ipython3",
   "version": "3.10.12"
  }
 },
 "nbformat": 4,
 "nbformat_minor": 5
}
