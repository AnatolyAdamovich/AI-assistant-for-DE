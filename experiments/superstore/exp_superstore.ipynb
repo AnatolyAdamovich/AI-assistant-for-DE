{
 "cells": [
  {
   "cell_type": "markdown",
   "id": "edb110e4",
   "metadata": {},
   "source": [
    "# libs"
   ]
  },
  {
   "cell_type": "code",
   "execution_count": 1,
   "id": "4cf154fd",
   "metadata": {},
   "outputs": [],
   "source": [
    "import sys\n",
    "import os\n",
    "\n",
    "src_path = os.path.abspath(os.path.join(os.getcwd(), '..'))\n",
    "if src_path not in sys.path:\n",
    "    sys.path.append(src_path)"
   ]
  },
  {
   "cell_type": "code",
   "execution_count": 2,
   "id": "624d9f84",
   "metadata": {},
   "outputs": [],
   "source": [
    "import logging\n",
    "from src.core.llm_generators.specification import AnalyticsSpecGenerator\n",
    "from src.core.llm_generators.airflow import AirflowDagGenerator\n",
    "from src.core.llm_generators.dbt import DbtGenerator\n",
    "from src.core.llm_generators.dashboards import MetabaseDashboardGenerator\n",
    "from src.config.prompts import prompts\n",
    "from src.config.settings import settings"
   ]
  },
  {
   "cell_type": "code",
   "execution_count": 3,
   "id": "00d8a07d",
   "metadata": {},
   "outputs": [],
   "source": [
    "# logging.basicConfig(level=logging.INFO, filemode=\"w\", filename=\"exp_meteo.log\")\n",
    "logging.basicConfig(level=logging.INFO)"
   ]
  },
  {
   "cell_type": "markdown",
   "id": "1374bd8d",
   "metadata": {},
   "source": [
    "## 1 ШАГ: Описание / Генерация ТЗ"
   ]
  },
  {
   "cell_type": "code",
   "execution_count": 4,
   "id": "e9867f55",
   "metadata": {},
   "outputs": [],
   "source": [
    "user_description = \"\"\"\n",
    "Я хочу построить аналитическую систему для управления и анализа продаж нашей розничной сети. \n",
    "Наша система занимается обработкой заказов, начиная с момента оформления заказа и заканчивая его доставкой. \n",
    "Аналитика будет использоваться руководством компании, менеджерами по продажам, а также отделом маркетинга для принятия решений по развитию бизнеса, оптимизации ассортимента и повышению эффективности работы с клиентами.\n",
    "\n",
    "Целевые метрики, которые необходимо отслеживать:\n",
    "\n",
    "* Общий объем продаж (выручка) по месяцам, кварталам и годам\n",
    "* Прибыль и рентабельность по категориям товаров и регионам\n",
    "* Средний чек по различным сегментам клиентов\n",
    "* Количество заказов и динамика их изменения\n",
    "* Топ-10 самых продаваемых и самых прибыльных товаров\n",
    "\n",
    "Источник данных — база данных PostgreSQL, таблица orders. В таблице содержатся следующие столбцы:\n",
    "\n",
    "* order_id — уникальный идентификатор заказа\n",
    "* order_date — дата оформления заказа\n",
    "* ship_date — дата отгрузки заказа\n",
    "* customer_id — идентификатор клиента\n",
    "* customer_name — имя клиента\n",
    "* segment — сегмент клиента (например, корпоративный, частный, домашний офис)\n",
    "* region — регион продажи\n",
    "* city — город\n",
    "* state — штат/область\n",
    "* postal_code — почтовый индекс\n",
    "* product_id — идентификатор товара\n",
    "* category — категория товара\n",
    "* sub_category — подкатегория товара\n",
    "* product_name — наименование товара\n",
    "* sales — сумма продажи\n",
    "* quantity — количество единиц товара в заказе\n",
    "* discount — скидка по заказу\n",
    "* profit — прибыль по заказу\n",
    "\n",
    "Данные должны обновляться в 30 минут каждого часа, начиная с 1 января 2015 года.\n",
    "\"\"\""
   ]
  },
  {
   "cell_type": "markdown",
   "id": "20249ed8",
   "metadata": {},
   "source": [
    "### GigaChat 2 Pro"
   ]
  },
  {
   "cell_type": "code",
   "execution_count": 6,
   "id": "5c5b8468",
   "metadata": {},
   "outputs": [
    {
     "name": "stderr",
     "output_type": "stream",
     "text": [
      "INFO:SPECIFICATION:Используется just-ai/gigachat/GigaChat-2-Pro с температурой 0.0\n"
     ]
    }
   ],
   "source": [
    "spec_gen = AnalyticsSpecGenerator(with_metrics=True)"
   ]
  },
  {
   "cell_type": "code",
   "execution_count": 7,
   "id": "5e209e6a",
   "metadata": {},
   "outputs": [
    {
     "name": "stderr",
     "output_type": "stream",
     "text": [
      "INFO:httpx:HTTP Request: POST https://caila.io/api/adapters/openai/chat/completions \"HTTP/1.1 200 \"\n",
      "INFO:SPECIFICATION:Токены: всего=1616, prompt=840, completion=776; Стоимость=2.424 ₽; Время=14.68 сек\n",
      "INFO:SPECIFICATION:ТЗ извлечено из пользовательского описания\n",
      "INFO:SPECIFICATION:Объект AnalyticsSpec загружен из словаря\n",
      "INFO:httpx:HTTP Request: POST https://caila.io/api/adapters/openai/chat/completions \"HTTP/1.1 200 \"\n",
      "INFO:SPECIFICATION:Токены: всего=1325, prompt=652, completion=673; Стоимость=1.988 ₽; Время=12.53 сек\n",
      "INFO:SPECIFICATION:Сгенерированы рекомендации\n",
      "INFO:SPECIFICATION:Объект AnalyticsSpec загружен из словаря\n",
      "INFO:SPECIFICATION:Извлеченное ТЗ сохранено в /home/ffrankusha/study/university/AI-assistant-for-DE/artifacts/analytics_spec.yml\n"
     ]
    }
   ],
   "source": [
    "spec_giga = spec_gen.generate_spec(user_description)"
   ]
  },
  {
   "cell_type": "markdown",
   "id": "2af99fb4",
   "metadata": {},
   "source": [
    "### YandexGPT Pro 5"
   ]
  },
  {
   "cell_type": "code",
   "execution_count": 8,
   "id": "3ee97764",
   "metadata": {},
   "outputs": [
    {
     "name": "stderr",
     "output_type": "stream",
     "text": [
      "INFO:SPECIFICATION:Используется just-ai/yandexgpt/yandexgpt/rc с температурой 0.0\n"
     ]
    }
   ],
   "source": [
    "spec_gen = AnalyticsSpecGenerator(with_metrics=True,\n",
    "                                  model=\"just-ai/yandexgpt/yandexgpt/rc\")"
   ]
  },
  {
   "cell_type": "code",
   "execution_count": 9,
   "id": "86c7c4ba",
   "metadata": {},
   "outputs": [
    {
     "name": "stderr",
     "output_type": "stream",
     "text": [
      "INFO:httpx:HTTP Request: POST https://caila.io/api/adapters/openai/chat/completions \"HTTP/1.1 200 \"\n",
      "INFO:SPECIFICATION:Токены: всего=1989, prompt=878, completion=1111; Стоимость=1.193 ₽; Время=33.85 сек\n",
      "INFO:SPECIFICATION:ТЗ извлечено из пользовательского описания\n",
      "INFO:SPECIFICATION:Объект AnalyticsSpec загружен из словаря\n",
      "INFO:httpx:HTTP Request: POST https://caila.io/api/adapters/openai/chat/completions \"HTTP/1.1 200 \"\n",
      "INFO:SPECIFICATION:Токены: всего=1719, prompt=843, completion=876; Стоимость=1.031 ₽; Время=32.08 сек\n",
      "INFO:SPECIFICATION:Сгенерированы рекомендации\n",
      "INFO:SPECIFICATION:Объект AnalyticsSpec загружен из словаря\n",
      "INFO:SPECIFICATION:Извлеченное ТЗ сохранено в /home/ffrankusha/study/university/AI-assistant-for-DE/artifacts/analytics_spec.yml\n"
     ]
    }
   ],
   "source": [
    "spec_yandex = spec_gen.generate_spec(user_description)"
   ]
  },
  {
   "cell_type": "markdown",
   "id": "e393dc92",
   "metadata": {},
   "source": [
    "### Gemini"
   ]
  },
  {
   "cell_type": "code",
   "execution_count": 5,
   "id": "553c2ad8",
   "metadata": {},
   "outputs": [
    {
     "name": "stderr",
     "output_type": "stream",
     "text": [
      "INFO:SPECIFICATION:Используется just-ai/gemini/gemini-2.0-flash с температурой 0.0\n"
     ]
    }
   ],
   "source": [
    "spec_gen = AnalyticsSpecGenerator(with_metrics=True,\n",
    "                                  model=\"just-ai/gemini/gemini-2.0-flash\")"
   ]
  },
  {
   "cell_type": "code",
   "execution_count": 6,
   "id": "81be686b",
   "metadata": {},
   "outputs": [
    {
     "name": "stderr",
     "output_type": "stream",
     "text": [
      "INFO:httpx:HTTP Request: POST https://caila.io/api/adapters/openai/chat/completions \"HTTP/1.1 200 \"\n",
      "INFO:SPECIFICATION:Токены: всего=2055, prompt=970, completion=1085; Стоимость=0.088 ₽; Время=6.09 сек\n",
      "INFO:SPECIFICATION:ТЗ извлечено из пользовательского описания\n",
      "INFO:SPECIFICATION:Объект AnalyticsSpec загружен из словаря\n",
      "INFO:httpx:HTTP Request: POST https://caila.io/api/adapters/openai/chat/completions \"HTTP/1.1 200 \"\n",
      "INFO:SPECIFICATION:Токены: всего=2172, prompt=834, completion=1338; Стоимость=0.102 ₽; Время=7.66 сек\n",
      "INFO:SPECIFICATION:Сгенерированы рекомендации\n",
      "INFO:SPECIFICATION:Объект AnalyticsSpec загружен из словаря\n",
      "INFO:SPECIFICATION:Извлеченное ТЗ сохранено в /home/ffrankusha/study/university/AI-assistant-for-DE/artifacts/analytics_spec.yml\n"
     ]
    }
   ],
   "source": [
    "spec_gemini = spec_gen.generate_spec(user_description)"
   ]
  },
  {
   "cell_type": "markdown",
   "id": "d0fb7ef7",
   "metadata": {},
   "source": [
    "## 2 ШАГ: Генерация Airflow DAG"
   ]
  },
  {
   "cell_type": "code",
   "execution_count": 7,
   "id": "efdd026d",
   "metadata": {},
   "outputs": [
    {
     "name": "stderr",
     "output_type": "stream",
     "text": [
      "INFO:SPECIFICATION:Используется just-ai/gigachat/GigaChat-2-Pro с температурой 0.0\n",
      "INFO:SPECIFICATION:Объект AnalyticsSpec загружен из файла ../artifacts/analytics_spec_gemini.yml\n"
     ]
    }
   ],
   "source": [
    "spec_gen = AnalyticsSpecGenerator(user_description)\n",
    "spec = spec_gen._from_yml_to_analytics_spec(\"../artifacts/analytics_spec_gemini.yml\")"
   ]
  },
  {
   "cell_type": "markdown",
   "id": "683e2fab",
   "metadata": {},
   "source": [
    "### Gpt-4o"
   ]
  },
  {
   "cell_type": "code",
   "execution_count": 8,
   "id": "141a3fb1",
   "metadata": {},
   "outputs": [
    {
     "name": "stderr",
     "output_type": "stream",
     "text": [
      "INFO:AIRFLOW:Используется just-ai/openai-proxy/gpt-4o с температурой 0.0\n",
      "INFO:httpx:HTTP Request: POST https://caila.io/api/adapters/openai/chat/completions \"HTTP/1.1 200 \"\n",
      "INFO:AIRFLOW:Токены: всего=303, prompt=250, completion=53; Стоимость=0.190 ₽; Время=1.13 сек\n",
      "INFO:AIRFLOW:Аргументы для DAG сгенерированы\n",
      "INFO:httpx:HTTP Request: POST https://caila.io/api/adapters/openai/chat/completions \"HTTP/1.1 200 \"\n",
      "INFO:AIRFLOW:Токены: всего=5447, prompt=4864, completion=583; Стоимость=2.956 ₽; Время=6.63 сек\n",
      "INFO:AIRFLOW:Функция moving_data_from_source_to_dwh сгенерирована\n",
      "INFO:AIRFLOW:Шаблон DAG заполнен\n",
      "INFO:AIRFLOW:DAG сохранен в /home/ffrankusha/study/university/AI-assistant-for-DE/artifacts/deploy/dags/analysis_retail_sales.py\n"
     ]
    }
   ],
   "source": [
    "airflow_gen = AirflowDagGenerator(analytics_specification=spec,\n",
    "                                  with_metrics=True)\n",
    "airflow_gen.generate_dag()"
   ]
  },
  {
   "cell_type": "markdown",
   "id": "c4b0d20a",
   "metadata": {},
   "source": [
    "### DeepSeek"
   ]
  },
  {
   "cell_type": "code",
   "execution_count": 9,
   "id": "2cd1b424",
   "metadata": {},
   "outputs": [
    {
     "name": "stderr",
     "output_type": "stream",
     "text": [
      "INFO:AIRFLOW:Используется just-ai/deepseek/deepseek-r1 с температурой 0.0\n",
      "INFO:httpx:HTTP Request: POST https://caila.io/api/adapters/openai/chat/completions \"HTTP/1.1 200 \"\n",
      "INFO:AIRFLOW:Токены: всего=726, prompt=280, completion=446; Стоимость=0.729 ₽; Время=9.32 сек\n",
      "INFO:AIRFLOW:Аргументы для DAG сгенерированы\n",
      "INFO:httpx:HTTP Request: POST https://caila.io/api/adapters/openai/chat/completions \"HTTP/1.1 200 \"\n",
      "INFO:AIRFLOW:Токены: всего=6057, prompt=5094, completion=963; Стоимость=3.818 ₽; Время=13.82 сек\n",
      "INFO:AIRFLOW:Функция moving_data_from_source_to_dwh сгенерирована\n",
      "INFO:AIRFLOW:Шаблон DAG заполнен\n",
      "INFO:AIRFLOW:DAG сохранен в /home/ffrankusha/study/university/AI-assistant-for-DE/artifacts/deploy/dags/analyze_retail_sales.py\n"
     ]
    }
   ],
   "source": [
    "airflow_gen = AirflowDagGenerator(analytics_specification=spec,\n",
    "                                  with_metrics=True,\n",
    "                                  model=\"just-ai/deepseek/deepseek-r1\")\n",
    "airflow_gen.generate_dag()"
   ]
  },
  {
   "cell_type": "markdown",
   "id": "99463617",
   "metadata": {},
   "source": [
    "### Claude-Sonnet-4"
   ]
  },
  {
   "cell_type": "code",
   "execution_count": 10,
   "id": "08398b45",
   "metadata": {},
   "outputs": [
    {
     "name": "stderr",
     "output_type": "stream",
     "text": [
      "INFO:AIRFLOW:Используется just-ai/claude/claude-sonnet-4 с температурой 0.0\n",
      "INFO:httpx:HTTP Request: POST https://caila.io/api/adapters/openai/chat/completions \"HTTP/1.1 200 \"\n",
      "INFO:AIRFLOW:Токены: всего=418, prompt=350, completion=68; Стоимость=0.342 ₽; Время=3.02 сек\n",
      "INFO:AIRFLOW:Аргументы для DAG сгенерированы\n",
      "INFO:httpx:HTTP Request: POST https://caila.io/api/adapters/openai/chat/completions \"HTTP/1.1 200 \"\n",
      "INFO:AIRFLOW:Токены: всего=6400, prompt=5500, completion=900; Стоимость=4.955 ₽; Время=13.33 сек\n",
      "INFO:AIRFLOW:Функция moving_data_from_source_to_dwh сгенерирована\n",
      "INFO:AIRFLOW:Шаблон DAG заполнен\n",
      "INFO:AIRFLOW:DAG сохранен в /home/ffrankusha/study/university/AI-assistant-for-DE/artifacts/deploy/dags/retail_sales_analysis_pipeline.py\n"
     ]
    }
   ],
   "source": [
    "airflow_gen = AirflowDagGenerator(analytics_specification=spec,\n",
    "                                  with_metrics=True,\n",
    "                                  model=\"just-ai/claude/claude-sonnet-4\")\n",
    "airflow_gen.generate_dag()"
   ]
  },
  {
   "cell_type": "markdown",
   "id": "906671ef",
   "metadata": {},
   "source": [
    "### YandexGPT Pro 5"
   ]
  },
  {
   "cell_type": "code",
   "execution_count": 11,
   "id": "3d9598ce",
   "metadata": {},
   "outputs": [
    {
     "name": "stderr",
     "output_type": "stream",
     "text": [
      "INFO:AIRFLOW:Используется just-ai/yandexgpt/yandexgpt/rc с температурой 0.0\n",
      "INFO:httpx:HTTP Request: POST https://caila.io/api/adapters/openai/chat/completions \"HTTP/1.1 200 \"\n",
      "INFO:AIRFLOW:Токены: всего=283, prompt=225, completion=58; Стоимость=0.170 ₽; Время=4.66 сек\n",
      "INFO:AIRFLOW:Аргументы для DAG сгенерированы\n",
      "INFO:httpx:HTTP Request: POST https://caila.io/api/adapters/openai/chat/completions \"HTTP/1.1 200 \"\n",
      "INFO:AIRFLOW:Токены: всего=5801, prompt=5313, completion=488; Стоимость=3.481 ₽; Время=32.51 сек\n",
      "INFO:AIRFLOW:Функция moving_data_from_source_to_dwh сгенерирована\n",
      "INFO:AIRFLOW:Шаблон DAG заполнен\n",
      "INFO:AIRFLOW:DAG сохранен в /home/ffrankusha/study/university/AI-assistant-for-DE/artifacts/deploy/dags/Анализ продаж розничной сети.py\n"
     ]
    }
   ],
   "source": [
    "airflow_gen = AirflowDagGenerator(analytics_specification=spec,\n",
    "                                  with_metrics=True,\n",
    "                                  model=\"just-ai/yandexgpt/yandexgpt/rc\")\n",
    "airflow_gen.generate_dag()"
   ]
  },
  {
   "cell_type": "markdown",
   "id": "835bd2c7",
   "metadata": {},
   "source": [
    "## 3 ШАГ: Генерация DBT"
   ]
  },
  {
   "cell_type": "code",
   "execution_count": 13,
   "id": "71425b98",
   "metadata": {},
   "outputs": [
    {
     "name": "stderr",
     "output_type": "stream",
     "text": [
      "INFO:SPECIFICATION:Используется just-ai/gigachat/GigaChat-2-Pro с температурой 0.0\n",
      "INFO:SPECIFICATION:Объект AnalyticsSpec загружен из файла ../artifacts/analytics_spec_gemini.yml\n"
     ]
    }
   ],
   "source": [
    "spec_gen = AnalyticsSpecGenerator(user_description)\n",
    "spec = spec_gen._from_yml_to_analytics_spec(\"../artifacts/analytics_spec_gemini.yml\")"
   ]
  },
  {
   "cell_type": "markdown",
   "id": "44722583",
   "metadata": {},
   "source": [
    "### GPT-4o"
   ]
  },
  {
   "cell_type": "code",
   "execution_count": 14,
   "id": "e77c620a",
   "metadata": {},
   "outputs": [
    {
     "name": "stderr",
     "output_type": "stream",
     "text": [
      "INFO:DBT:Используется just-ai/openai-proxy/gpt-4o с температурой 0.0\n",
      "INFO:root:sources.yml сгенерирован\n",
      "INFO:DBT:Файл сохранен /home/ffrankusha/study/university/AI-assistant-for-DE/artifacts/deploy/dbt/models/source.yml\n",
      "INFO:root:profiles.yml сгенерирован\n",
      "INFO:DBT:Файл сохранен /home/ffrankusha/study/university/AI-assistant-for-DE/artifacts/deploy/dbt/profiles.yml\n",
      "INFO:httpx:HTTP Request: POST https://caila.io/api/adapters/openai/chat/completions \"HTTP/1.1 200 \"\n",
      "INFO:DBT:Токены: всего=1438, prompt=613, completion=825; Стоимость=1.613 ₽; Время=6.86 сек\n",
      "INFO:root:Stage-модели сгенерированы\n",
      "INFO:DBT:Файл сохранен /home/ffrankusha/study/university/AI-assistant-for-DE/artifacts/deploy/dbt/models/stage/schema.yml\n",
      "INFO:DBT:Файл сохранен /home/ffrankusha/study/university/AI-assistant-for-DE/artifacts/deploy/dbt/models/stage/stg_orders.sql\n",
      "INFO:httpx:HTTP Request: POST https://caila.io/api/adapters/openai/chat/completions \"HTTP/1.1 200 \"\n",
      "INFO:DBT:Токены: всего=2427, prompt=1066, completion=1361; Стоимость=2.683 ₽; Время=13.63 сек\n",
      "INFO:root:Core-модели сгенерированы\n",
      "INFO:DBT:Файл сохранен /home/ffrankusha/study/university/AI-assistant-for-DE/artifacts/deploy/dbt/models/core/schema.yml\n",
      "INFO:DBT:Файл сохранен /home/ffrankusha/study/university/AI-assistant-for-DE/artifacts/deploy/dbt/models/core/int_orders_summary.sql\n",
      "INFO:DBT:Файл сохранен /home/ffrankusha/study/university/AI-assistant-for-DE/artifacts/deploy/dbt/models/core/int_geo_enriched_customers.sql\n",
      "INFO:httpx:HTTP Request: POST https://caila.io/api/adapters/openai/chat/completions \"HTTP/1.1 200 \"\n",
      "INFO:DBT:Токены: всего=2734, prompt=1594, completion=1140; Стоимость=2.535 ₽; Время=11.00 сек\n",
      "INFO:root:Marts-модели сгенерированы\n",
      "INFO:DBT:Файл сохранен /home/ffrankusha/study/university/AI-assistant-for-DE/artifacts/deploy/dbt/models/marts/schema.yml\n",
      "INFO:DBT:Файл сохранен /home/ffrankusha/study/university/AI-assistant-for-DE/artifacts/deploy/dbt/models/marts/sales_by_time.sql\n",
      "INFO:DBT:Файл сохранен /home/ffrankusha/study/university/AI-assistant-for-DE/artifacts/deploy/dbt/models/marts/profit_by_category_region.sql\n",
      "INFO:DBT:Файл сохранен /home/ffrankusha/study/university/AI-assistant-for-DE/artifacts/deploy/dbt/models/marts/average_check_by_segment.sql\n",
      "INFO:DBT:Файл сохранен /home/ffrankusha/study/university/AI-assistant-for-DE/artifacts/deploy/dbt/models/marts/top_10_products.sql\n"
     ]
    }
   ],
   "source": [
    "dbt_llm = DbtGenerator(analytics_specification=spec,\n",
    "                       with_metrics=True)\n",
    "dbt_llm.generate_project()"
   ]
  },
  {
   "cell_type": "markdown",
   "id": "4c21788b",
   "metadata": {},
   "source": [
    "### Claude Sonnet 4"
   ]
  },
  {
   "cell_type": "code",
   "execution_count": 15,
   "id": "6822fdf2",
   "metadata": {},
   "outputs": [
    {
     "name": "stderr",
     "output_type": "stream",
     "text": [
      "INFO:DBT:Используется just-ai/claude/claude-sonnet-4 с температурой 0.0\n",
      "INFO:root:sources.yml сгенерирован\n",
      "INFO:DBT:Файл сохранен /home/ffrankusha/study/university/AI-assistant-for-DE/artifacts/deploy/dbt/models/source.yml\n",
      "INFO:root:profiles.yml сгенерирован\n",
      "INFO:DBT:Файл сохранен /home/ffrankusha/study/university/AI-assistant-for-DE/artifacts/deploy/dbt/profiles.yml\n",
      "INFO:httpx:HTTP Request: POST https://caila.io/api/adapters/openai/chat/completions \"HTTP/1.1 200 \"\n",
      "INFO:DBT:Токены: всего=2706, prompt=803, completion=1903; Стоимость=5.117 ₽; Время=22.80 сек\n",
      "INFO:root:Stage-модели сгенерированы\n",
      "INFO:DBT:Файл сохранен /home/ffrankusha/study/university/AI-assistant-for-DE/artifacts/deploy/dbt/models/stage/schema.yml\n",
      "INFO:DBT:Файл сохранен /home/ffrankusha/study/university/AI-assistant-for-DE/artifacts/deploy/dbt/models/stage/stg_orders.sql\n",
      "INFO:httpx:HTTP Request: POST https://caila.io/api/adapters/openai/chat/completions \"HTTP/1.1 200 \"\n",
      "INFO:DBT:Токены: всего=5914, prompt=1818, completion=4096; Стоимость=11.058 ₽; Время=50.84 сек\n",
      "INFO:root:Core-модели сгенерированы\n",
      "INFO:DBT:Файл сохранен /home/ffrankusha/study/university/AI-assistant-for-DE/artifacts/deploy/dbt/models/core/schema.yml\n",
      "INFO:DBT:Файл сохранен /home/ffrankusha/study/university/AI-assistant-for-DE/artifacts/deploy/dbt/models/core/int_orders_enriched.sql\n",
      "INFO:DBT:Файл сохранен /home/ffrankusha/study/university/AI-assistant-for-DE/artifacts/deploy/dbt/models/core/int_customer_metrics.sql\n",
      "INFO:DBT:Файл сохранен /home/ffrankusha/study/university/AI-assistant-for-DE/artifacts/deploy/dbt/models/core/int_product_performance.sql\n",
      "INFO:DBT:Файл сохранен /home/ffrankusha/study/university/AI-assistant-for-DE/artifacts/deploy/dbt/models/core/int_regional_sales.sql\n",
      "INFO:httpx:HTTP Request: POST https://caila.io/api/adapters/openai/chat/completions \"HTTP/1.1 200 \"\n",
      "INFO:DBT:Токены: всего=6349, prompt=2253, completion=4096; Стоимость=11.273 ₽; Время=49.01 сек\n",
      "INFO:root:Marts-модели сгенерированы\n",
      "INFO:DBT:Файл сохранен /home/ffrankusha/study/university/AI-assistant-for-DE/artifacts/deploy/dbt/models/marts/schema.yml\n",
      "INFO:DBT:Файл сохранен /home/ffrankusha/study/university/AI-assistant-for-DE/artifacts/deploy/dbt/models/marts/mart_sales_overview.sql\n",
      "INFO:DBT:Файл сохранен /home/ffrankusha/study/university/AI-assistant-for-DE/artifacts/deploy/dbt/models/marts/mart_customer_segments.sql\n",
      "INFO:DBT:Файл сохранен /home/ffrankusha/study/university/AI-assistant-for-DE/artifacts/deploy/dbt/models/marts/mart_product_abc_analysis.sql\n",
      "INFO:DBT:Файл сохранен /home/ffrankusha/study/university/AI-assistant-for-DE/artifacts/deploy/dbt/models/marts/mart_delivery_performance.sql\n",
      "INFO:DBT:Файл сохранен /home/ffrankusha/study/university/AI-assistant-for-DE/artifacts/deploy/dbt/models/marts/mart_top_products.sql\n"
     ]
    }
   ],
   "source": [
    "dbt_llm = DbtGenerator(analytics_specification=spec,\n",
    "                       with_metrics=True,\n",
    "                       model=\"just-ai/claude/claude-sonnet-4\")\n",
    "dbt_llm.generate_project()"
   ]
  },
  {
   "cell_type": "markdown",
   "id": "7da88226",
   "metadata": {},
   "source": [
    "### GigaChat 2 Max"
   ]
  },
  {
   "cell_type": "code",
   "execution_count": 16,
   "id": "e9d65443",
   "metadata": {},
   "outputs": [
    {
     "name": "stderr",
     "output_type": "stream",
     "text": [
      "INFO:DBT:Используется just-ai/gigachat/GigaChat-2-Max с температурой 0.0\n",
      "INFO:root:sources.yml сгенерирован\n",
      "INFO:DBT:Файл сохранен /home/ffrankusha/study/university/AI-assistant-for-DE/artifacts/deploy/dbt/models/source.yml\n",
      "INFO:root:profiles.yml сгенерирован\n",
      "INFO:DBT:Файл сохранен /home/ffrankusha/study/university/AI-assistant-for-DE/artifacts/deploy/dbt/profiles.yml\n",
      "INFO:httpx:HTTP Request: POST https://caila.io/api/adapters/openai/chat/completions \"HTTP/1.1 200 \"\n",
      "INFO:DBT:Токены: всего=1404, prompt=585, completion=819; Стоимость=2.738 ₽; Время=17.08 сек\n",
      "INFO:root:Stage-модели сгенерированы\n",
      "INFO:DBT:Файл сохранен /home/ffrankusha/study/university/AI-assistant-for-DE/artifacts/deploy/dbt/models/stage/schema.yml\n",
      "INFO:DBT:Файл сохранен /home/ffrankusha/study/university/AI-assistant-for-DE/artifacts/deploy/dbt/models/stage/stg_orders.sql\n",
      "INFO:httpx:HTTP Request: POST https://caila.io/api/adapters/openai/chat/completions \"HTTP/1.1 200 \"\n",
      "INFO:DBT:Токены: всего=1735, prompt=1130, completion=605; Стоимость=3.383 ₽; Время=12.72 сек\n",
      "INFO:root:Core-модели сгенерированы\n",
      "INFO:DBT:Файл сохранен /home/ffrankusha/study/university/AI-assistant-for-DE/artifacts/deploy/dbt/models/core/schema.yml\n",
      "INFO:DBT:Файл сохранен /home/ffrankusha/study/university/AI-assistant-for-DE/artifacts/deploy/dbt/models/core/int_orders_aggregated.sql\n",
      "INFO:DBT:Файл сохранен /home/ffrankusha/study/university/AI-assistant-for-DE/artifacts/deploy/dbt/models/core/int_customer_segments.sql\n",
      "INFO:httpx:HTTP Request: POST https://caila.io/api/adapters/openai/chat/completions \"HTTP/1.1 200 \"\n",
      "INFO:DBT:Токены: всего=1781, prompt=1194, completion=587; Стоимость=3.473 ₽; Время=11.55 сек\n",
      "INFO:root:Marts-модели сгенерированы\n",
      "INFO:DBT:Файл сохранен /home/ffrankusha/study/university/AI-assistant-for-DE/artifacts/deploy/dbt/models/marts/schema.yml\n",
      "INFO:DBT:Файл сохранен /home/ffrankusha/study/university/AI-assistant-for-DE/artifacts/deploy/dbt/models/marts/mart_total_sales.sql\n",
      "INFO:DBT:Файл сохранен /home/ffrankusha/study/university/AI-assistant-for-DE/artifacts/deploy/dbt/models/marts/mart_profit_and_margin.sql\n",
      "INFO:DBT:Файл сохранен /home/ffrankusha/study/university/AI-assistant-for-DE/artifacts/deploy/dbt/models/marts/mart_average_check.sql\n"
     ]
    }
   ],
   "source": [
    "dbt_llm = DbtGenerator(analytics_specification=spec,\n",
    "                       with_metrics=True,\n",
    "                       model=\"just-ai/gigachat/GigaChat-2-Max\")\n",
    "dbt_llm.generate_project()"
   ]
  },
  {
   "cell_type": "markdown",
   "id": "b98d5574",
   "metadata": {},
   "source": [
    "### DeepSeek"
   ]
  },
  {
   "cell_type": "code",
   "execution_count": 17,
   "id": "25094546",
   "metadata": {},
   "outputs": [
    {
     "name": "stderr",
     "output_type": "stream",
     "text": [
      "INFO:DBT:Используется just-ai/deepseek/deepseek-r1 с температурой 0.0\n",
      "INFO:root:sources.yml сгенерирован\n",
      "INFO:DBT:Файл сохранен /home/ffrankusha/study/university/AI-assistant-for-DE/artifacts/deploy/dbt/models/source.yml\n",
      "INFO:root:profiles.yml сгенерирован\n",
      "INFO:DBT:Файл сохранен /home/ffrankusha/study/university/AI-assistant-for-DE/artifacts/deploy/dbt/profiles.yml\n",
      "INFO:httpx:HTTP Request: POST https://caila.io/api/adapters/openai/chat/completions \"HTTP/1.1 200 \"\n",
      "INFO:DBT:Токены: всего=1748, prompt=647, completion=1101; Стоимость=1.777 ₽; Время=12.42 сек\n",
      "INFO:root:Stage-модели сгенерированы\n",
      "INFO:DBT:Файл сохранен /home/ffrankusha/study/university/AI-assistant-for-DE/artifacts/deploy/dbt/models/stage/schema.yml\n",
      "INFO:DBT:Файл сохранен /home/ffrankusha/study/university/AI-assistant-for-DE/artifacts/deploy/dbt/models/stage/stg_orders.sql\n",
      "INFO:httpx:HTTP Request: POST https://caila.io/api/adapters/openai/chat/completions \"HTTP/1.1 200 \"\n",
      "INFO:DBT:Токены: всего=4712, prompt=1090, completion=3622; Стоимость=5.326 ₽; Время=32.98 сек\n",
      "INFO:root:Core-модели сгенерированы\n",
      "INFO:DBT:Файл сохранен /home/ffrankusha/study/university/AI-assistant-for-DE/artifacts/deploy/dbt/models/core/schema.yml\n",
      "INFO:DBT:Файл сохранен /home/ffrankusha/study/university/AI-assistant-for-DE/artifacts/deploy/dbt/models/core/int_orders_cleaned.sql\n",
      "INFO:DBT:Файл сохранен /home/ffrankusha/study/university/AI-assistant-for-DE/artifacts/deploy/dbt/models/core/int_sales_category_region_monthly.sql\n",
      "INFO:DBT:Файл сохранен /home/ffrankusha/study/university/AI-assistant-for-DE/artifacts/deploy/dbt/models/core/int_customer_segments.sql\n",
      "INFO:httpx:HTTP Request: POST https://caila.io/api/adapters/openai/chat/completions \"HTTP/1.1 200 \"\n",
      "INFO:DBT:Токены: всего=7034, prompt=1634, completion=5400; Стоимость=7.945 ₽; Время=57.20 сек\n",
      "INFO:root:Marts-модели сгенерированы\n",
      "INFO:DBT:Файл сохранен /home/ffrankusha/study/university/AI-assistant-for-DE/artifacts/deploy/dbt/models/marts/schema.yml\n",
      "INFO:DBT:Файл сохранен /home/ffrankusha/study/university/AI-assistant-for-DE/artifacts/deploy/dbt/models/marts/fct_sales_monthly.sql\n",
      "INFO:DBT:Файл сохранен /home/ffrankusha/study/university/AI-assistant-for-DE/artifacts/deploy/dbt/models/marts/fct_average_ticket_segment.sql\n",
      "INFO:DBT:Файл сохранен /home/ffrankusha/study/university/AI-assistant-for-DE/artifacts/deploy/dbt/models/marts/fct_top_products.sql\n",
      "INFO:DBT:Файл сохранен /home/ffrankusha/study/university/AI-assistant-for-DE/artifacts/deploy/dbt/models/marts/fct_customer_retention.sql\n",
      "INFO:DBT:Файл сохранен /home/ffrankusha/study/university/AI-assistant-for-DE/artifacts/deploy/dbt/models/marts/fct_clv.sql\n"
     ]
    }
   ],
   "source": [
    "dbt_llm = DbtGenerator(analytics_specification=spec,\n",
    "                       with_metrics=True,\n",
    "                       model=\"just-ai/deepseek/deepseek-r1\")\n",
    "dbt_llm.generate_project()"
   ]
  },
  {
   "cell_type": "markdown",
   "id": "9f420afa",
   "metadata": {},
   "source": [
    "## 4 ШАГ: генерация дашборда"
   ]
  },
  {
   "cell_type": "code",
   "execution_count": 4,
   "id": "7ea67f31",
   "metadata": {},
   "outputs": [],
   "source": [
    "import yaml\n",
    "with open(\"../artifacts/deploy/dbt/models/marts/schema.yml\", \"r\", encoding=\"utf-8\") as f:\n",
    "    schema = yaml.safe_load(f)"
   ]
  },
  {
   "cell_type": "code",
   "execution_count": 5,
   "id": "0695f81d",
   "metadata": {},
   "outputs": [
    {
     "name": "stderr",
     "output_type": "stream",
     "text": [
      "INFO:SPECIFICATION:Используется just-ai/gigachat/GigaChat-2-Pro с температурой 0.0\n",
      "INFO:SPECIFICATION:Объект AnalyticsSpec загружен из файла ../artifacts/analytics_spec.yml\n"
     ]
    }
   ],
   "source": [
    "spec_gen = AnalyticsSpecGenerator()\n",
    "spec = spec_gen._from_yml_to_analytics_spec(filepath=\"../artifacts/analytics_spec.yml\")\n",
    "\n",
    "metrics = spec.metrics"
   ]
  },
  {
   "cell_type": "markdown",
   "id": "93c85459",
   "metadata": {},
   "source": [
    "### GPT-4o"
   ]
  },
  {
   "cell_type": "code",
   "execution_count": 7,
   "id": "f99b494a",
   "metadata": {},
   "outputs": [
    {
     "name": "stderr",
     "output_type": "stream",
     "text": [
      "INFO:DASHBOARD:Аутентификация в Metabase прошла успешно!\n",
      "INFO:DASHBOARD:Используется just-ai/openai-proxy/gpt-4o с температурой 0.0\n"
     ]
    }
   ],
   "source": [
    "dash_gen = MetabaseDashboardGenerator(\n",
    "    metabase_url=settings.METABASE_URL,\n",
    "    username=settings.METABASE_USERNAME,\n",
    "    password=settings.METABASE_PASSWORD,\n",
    "    with_metrics=True,\n",
    "    model=\"just-ai/openai-proxy/gpt-4o\"\n",
    ")"
   ]
  },
  {
   "cell_type": "code",
   "execution_count": 8,
   "id": "32f4e91d",
   "metadata": {},
   "outputs": [
    {
     "name": "stderr",
     "output_type": "stream",
     "text": [
      "INFO:httpx:HTTP Request: POST https://caila.io/api/adapters/openai/chat/completions \"HTTP/1.1 200 \"\n",
      "INFO:DASHBOARD:Токены: всего=2157, prompt=1371, completion=786; Стоимость=1.859 ₽; Время=7.04 сек\n",
      "INFO:DASHBOARD:Сгенерированы настройки для 9 карточек\n",
      "INFO:DASHBOARD:Карточка 'Общий объем продаж' создана!\n",
      "INFO:DASHBOARD:Карточка 'Прибыль и рентабельность' создана!\n",
      "INFO:DASHBOARD:Карточка 'Средний чек' создана!\n",
      "INFO:DASHBOARD:Карточка 'Динамика количества заказов' создана!\n",
      "INFO:DASHBOARD:Карточка 'Топ-10 самых продаваемых товаров' создана!\n",
      "INFO:DASHBOARD:Карточка 'Коэффициент удержания клиентов' создана!\n",
      "INFO:DASHBOARD:Карточка 'Пожизненная ценность клиента' создана!\n",
      "INFO:DASHBOARD:Карточка 'Процент возвратов' создана!\n",
      "INFO:DASHBOARD:Карточка 'ABC-анализ продаж' создана!\n",
      "INFO:DASHBOARD:Дашборд 'Analytics Dashboard' создан!\n",
      "INFO:DASHBOARD:Карточка №97 добавлена на дашборд №97\n",
      "INFO:DASHBOARD:Карточка №98 добавлена на дашборд №97\n",
      "INFO:DASHBOARD:Карточка №99 добавлена на дашборд №97\n",
      "INFO:DASHBOARD:Карточка №100 добавлена на дашборд №97\n",
      "INFO:DASHBOARD:Карточка №101 добавлена на дашборд №97\n",
      "INFO:DASHBOARD:Карточка №102 добавлена на дашборд №97\n",
      "INFO:DASHBOARD:Карточка №103 добавлена на дашборд №97\n",
      "INFO:DASHBOARD:Карточка №104 добавлена на дашборд №97\n",
      "INFO:DASHBOARD:Карточка №105 добавлена на дашборд №97\n",
      "INFO:DASHBOARD:Аналитический дашборд готов к использованию\n"
     ]
    }
   ],
   "source": [
    "dash_gen.generate_dashboard(marts_schema=schema,\n",
    "                            metrics=metrics)"
   ]
  },
  {
   "cell_type": "markdown",
   "id": "2014fb65",
   "metadata": {},
   "source": [
    "### DeepSeek R1"
   ]
  },
  {
   "cell_type": "code",
   "execution_count": 9,
   "id": "78dde903",
   "metadata": {},
   "outputs": [
    {
     "name": "stderr",
     "output_type": "stream",
     "text": [
      "INFO:DASHBOARD:Аутентификация в Metabase прошла успешно!\n",
      "INFO:DASHBOARD:Используется just-ai/deepseek/deepseek-r1 с температурой 0.0\n",
      "INFO:httpx:HTTP Request: POST https://caila.io/api/adapters/openai/chat/completions \"HTTP/1.1 200 \"\n",
      "INFO:DASHBOARD:Токены: всего=3479, prompt=1522, completion=1957; Стоимость=3.344 ₽; Время=30.77 сек\n",
      "INFO:DASHBOARD:Сгенерированы настройки для 6 карточек\n",
      "INFO:DASHBOARD:Карточка 'Monthly Sales Trend' создана!\n",
      "INFO:DASHBOARD:Карточка 'Average Ticket by Segment' создана!\n",
      "INFO:DASHBOARD:Карточка 'Monthly Orders Growth' создана!\n",
      "INFO:DASHBOARD:Карточка 'Top 10 Products by Sales' создана!\n",
      "INFO:DASHBOARD:Карточка 'Customer Retention Rate' создана!\n",
      "INFO:DASHBOARD:Карточка 'Average CLV' создана!\n",
      "INFO:DASHBOARD:Дашборд 'Analytics Dashboard' создан!\n",
      "INFO:DASHBOARD:Карточка №106 добавлена на дашборд №98\n",
      "INFO:DASHBOARD:Карточка №107 добавлена на дашборд №98\n",
      "INFO:DASHBOARD:Карточка №108 добавлена на дашборд №98\n",
      "INFO:DASHBOARD:Карточка №109 добавлена на дашборд №98\n",
      "INFO:DASHBOARD:Карточка №110 добавлена на дашборд №98\n",
      "INFO:DASHBOARD:Карточка №111 добавлена на дашборд №98\n",
      "INFO:DASHBOARD:Аналитический дашборд готов к использованию\n"
     ]
    }
   ],
   "source": [
    "dash_gen = MetabaseDashboardGenerator(\n",
    "    metabase_url=settings.METABASE_URL,\n",
    "    username=settings.METABASE_USERNAME,\n",
    "    password=settings.METABASE_PASSWORD,\n",
    "    with_metrics=True,\n",
    "    model=\"just-ai/deepseek/deepseek-r1\"\n",
    ")\n",
    "\n",
    "dash_gen.generate_dashboard(marts_schema=schema,\n",
    "                            metrics=metrics)"
   ]
  },
  {
   "cell_type": "markdown",
   "id": "68e99ef1",
   "metadata": {},
   "source": [
    "### GigaChat 2 Pro"
   ]
  },
  {
   "cell_type": "code",
   "execution_count": 10,
   "id": "4e7ab887",
   "metadata": {},
   "outputs": [
    {
     "name": "stderr",
     "output_type": "stream",
     "text": [
      "INFO:DASHBOARD:Аутентификация в Metabase прошла успешно!\n",
      "INFO:DASHBOARD:Используется just-ai/gigachat/GigaChat-2-Pro с температурой 0.0\n",
      "INFO:httpx:HTTP Request: POST https://caila.io/api/adapters/openai/chat/completions \"HTTP/1.1 200 \"\n",
      "INFO:DASHBOARD:Токены: всего=1633, prompt=1313, completion=320; Стоимость=2.450 ₽; Время=7.18 сек\n",
      "INFO:DASHBOARD:Сгенерированы настройки для 5 карточек\n",
      "INFO:DASHBOARD:Карточка 'Общий объем продаж по месяцам' создана!\n",
      "INFO:DASHBOARD:Карточка 'Средний чек по сегментам клиентов' создана!\n",
      "INFO:DASHBOARD:Карточка 'Топ-10 товаров по объему продаж' создана!\n",
      "INFO:DASHBOARD:Карточка 'Коэффициент удержания клиентов (Customer Retention Rate)' создана!\n",
      "INFO:DASHBOARD:Карточка 'Пожизненная ценность клиента (Customer Lifetime Value)' создана!\n",
      "INFO:DASHBOARD:Дашборд 'Analytics Dashboard' создан!\n",
      "INFO:DASHBOARD:Карточка №112 добавлена на дашборд №99\n",
      "INFO:DASHBOARD:Карточка №113 добавлена на дашборд №99\n",
      "INFO:DASHBOARD:Карточка №114 добавлена на дашборд №99\n",
      "INFO:DASHBOARD:Карточка №115 добавлена на дашборд №99\n",
      "INFO:DASHBOARD:Карточка №116 добавлена на дашборд №99\n",
      "INFO:DASHBOARD:Аналитический дашборд готов к использованию\n"
     ]
    }
   ],
   "source": [
    "dash_gen = MetabaseDashboardGenerator(\n",
    "    metabase_url=settings.METABASE_URL,\n",
    "    username=settings.METABASE_USERNAME,\n",
    "    password=settings.METABASE_PASSWORD,\n",
    "    with_metrics=True,\n",
    "    model=\"just-ai/gigachat/GigaChat-2-Pro\"\n",
    ")\n",
    "dash_gen.generate_dashboard(marts_schema=schema,\n",
    "                            metrics=metrics)"
   ]
  },
  {
   "cell_type": "markdown",
   "id": "8a76c408",
   "metadata": {},
   "source": [
    "### Gemini 2 Flash"
   ]
  },
  {
   "cell_type": "code",
   "execution_count": 11,
   "id": "a345b057",
   "metadata": {},
   "outputs": [
    {
     "name": "stderr",
     "output_type": "stream",
     "text": [
      "INFO:DASHBOARD:Аутентификация в Metabase прошла успешно!\n",
      "INFO:DASHBOARD:Используется just-ai/gemini/gemini-2.0-flash с температурой 0.0\n"
     ]
    }
   ],
   "source": [
    "dash_gen = MetabaseDashboardGenerator(\n",
    "    metabase_url=settings.METABASE_URL,\n",
    "    username=settings.METABASE_USERNAME,\n",
    "    password=settings.METABASE_PASSWORD,\n",
    "    with_metrics=True,\n",
    "    model=\"just-ai/gemini/gemini-2.0-flash\"\n",
    ")"
   ]
  },
  {
   "cell_type": "code",
   "execution_count": 12,
   "id": "f55833a5",
   "metadata": {},
   "outputs": [
    {
     "name": "stderr",
     "output_type": "stream",
     "text": [
      "INFO:httpx:HTTP Request: POST https://caila.io/api/adapters/openai/chat/completions \"HTTP/1.1 200 \"\n",
      "INFO:DASHBOARD:Токены: всего=1983, prompt=1523, completion=460; Стоимость=0.056 ₽; Время=3.44 сек\n",
      "INFO:DASHBOARD:Сгенерированы настройки для 5 карточек\n",
      "INFO:DASHBOARD:Карточка 'Monthly Sales' создана!\n",
      "INFO:DASHBOARD:Карточка 'Average Ticket by Segment' создана!\n",
      "INFO:DASHBOARD:Карточка 'Top 10 Products by Sales' создана!\n",
      "INFO:DASHBOARD:Карточка 'Customer Retention Rate' создана!\n",
      "INFO:DASHBOARD:Карточка 'Customer Lifetime Value Distribution' создана!\n",
      "INFO:DASHBOARD:Дашборд 'Analytics Dashboard' создан!\n",
      "INFO:DASHBOARD:Карточка №117 добавлена на дашборд №100\n",
      "INFO:DASHBOARD:Карточка №118 добавлена на дашборд №100\n",
      "INFO:DASHBOARD:Карточка №119 добавлена на дашборд №100\n",
      "INFO:DASHBOARD:Карточка №120 добавлена на дашборд №100\n",
      "INFO:DASHBOARD:Карточка №121 добавлена на дашборд №100\n",
      "INFO:DASHBOARD:Аналитический дашборд готов к использованию\n"
     ]
    }
   ],
   "source": [
    "dash_gen.generate_dashboard(marts_schema=schema,\n",
    "                            metrics=metrics)"
   ]
  },
  {
   "cell_type": "code",
   "execution_count": null,
   "id": "e5e2ac0b",
   "metadata": {},
   "outputs": [],
   "source": []
  }
 ],
 "metadata": {
  "kernelspec": {
   "display_name": "venv",
   "language": "python",
   "name": "python3"
  },
  "language_info": {
   "codemirror_mode": {
    "name": "ipython",
    "version": 3
   },
   "file_extension": ".py",
   "mimetype": "text/x-python",
   "name": "python",
   "nbconvert_exporter": "python",
   "pygments_lexer": "ipython3",
   "version": "3.10.12"
  }
 },
 "nbformat": 4,
 "nbformat_minor": 5
}
