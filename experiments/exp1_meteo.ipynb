{
 "cells": [
  {
   "cell_type": "markdown",
   "id": "edb110e4",
   "metadata": {},
   "source": [
    "## libs"
   ]
  },
  {
   "cell_type": "code",
   "execution_count": 1,
   "id": "4cf154fd",
   "metadata": {},
   "outputs": [],
   "source": [
    "import sys\n",
    "import os\n",
    "\n",
    "src_path = os.path.abspath(os.path.join(os.getcwd(), '..'))\n",
    "if src_path not in sys.path:\n",
    "    sys.path.append(src_path)"
   ]
  },
  {
   "cell_type": "code",
   "execution_count": 2,
   "id": "624d9f84",
   "metadata": {},
   "outputs": [],
   "source": [
    "import logging\n",
    "from src.core.llm_generators.specification import AnalyticsSpecGenerator\n",
    "from src.core.llm_generators.airflow import AirflowDagGenerator\n",
    "from src.core.llm_generators.dbt import DbtGenerator\n",
    "from src.core.llm_generators.dashboards import MetabaseDashboardGenerator\n",
    "from src.config.prompts import prompts\n",
    "from src.config.settings import settings"
   ]
  },
  {
   "cell_type": "code",
   "execution_count": 3,
   "id": "00d8a07d",
   "metadata": {},
   "outputs": [],
   "source": [
    "logging.basicConfig(level=logging.INFO, filename=\"exp1_log.log\",filemode=\"w\")"
   ]
  },
  {
   "cell_type": "markdown",
   "id": "1374bd8d",
   "metadata": {},
   "source": [
    "## 1 ШАГ: Описание / Генерация ТЗ"
   ]
  },
  {
   "cell_type": "code",
   "execution_count": 4,
   "id": "d43f9e31",
   "metadata": {},
   "outputs": [],
   "source": [
    "user_description = \"\"\"\n",
    "Необходимо построить аналитическую систему для мониторинга погодных условий в Москве. \n",
    "Предполагается, что аналитикой будут пользоваться менеджеры.\n",
    "\n",
    "Источником данных является OpenMeteo API.\n",
    "Требуется в 30 минут каждого часа (например, в 13:30, 14:30 и т.д.) собирать информацию о температуре воздуха, влажности, скорости ветра и осадках. \n",
    "\n",
    "На основе этих данных нужно рассчитывать среднесуточные значения, а также выявлять дни с экстремальными погодными условиями (например, сильный ветер или аномально высокая температура). \n",
    "Итоговый дашборд должен отображать динамику погодных параметров и выделять аномалии.\"\n",
    "\"\"\""
   ]
  },
  {
   "cell_type": "code",
   "execution_count": 5,
   "id": "5c5b8468",
   "metadata": {},
   "outputs": [],
   "source": [
    "spec_gen = AnalyticsSpecGenerator()"
   ]
  },
  {
   "cell_type": "code",
   "execution_count": 6,
   "id": "5e209e6a",
   "metadata": {},
   "outputs": [],
   "source": [
    "result = spec_gen.extract_info_from_users_desription(user_description)"
   ]
  },
  {
   "cell_type": "code",
   "execution_count": 7,
   "id": "3ee97764",
   "metadata": {},
   "outputs": [],
   "source": [
    "spec = result"
   ]
  },
  {
   "cell_type": "markdown",
   "id": "d0fb7ef7",
   "metadata": {},
   "source": [
    "## 2 ШАГ: Генерация Airflow DAG"
   ]
  },
  {
   "cell_type": "code",
   "execution_count": 8,
   "id": "141a3fb1",
   "metadata": {},
   "outputs": [],
   "source": [
    "airflow_gen = AirflowDagGenerator(analytics_specification=spec)"
   ]
  },
  {
   "cell_type": "code",
   "execution_count": 9,
   "id": "3d548363",
   "metadata": {},
   "outputs": [],
   "source": [
    "airflow_gen.generate_dag()"
   ]
  },
  {
   "cell_type": "code",
   "execution_count": 22,
   "id": "ce45daf5",
   "metadata": {},
   "outputs": [],
   "source": [
    "import requests\n",
    "base_url = f'https://api.open-meteo.com/v1/forecast'\n",
    "\n",
    "# Дата выполнения DAG\n",
    "execution_date = \"2025-05-26\"\n",
    "\n",
    "# Формирование запроса к API\n",
    "params = {\n",
    "    'latitude': 55.7558,  # Координаты Москвы\n",
    "    'longitude': 37.6173,\n",
    "    'start_date': execution_date,\n",
    "    'end_date': execution_date,\n",
    "    'hourly': ','.join([\"temperature_2m\"]),\n",
    "}\n",
    "\n",
    "response = requests.get(base_url, params=params)\n",
    "response.raise_for_status()\n",
    "\n",
    "# Извлечение данных из ответа API\n",
    "data = response.json().get('hourly', {})\n",
    "records = [\n",
    "    {\n",
    "        'timestamp': f\"{execution_date}T{hour}:00:00\",\n",
    "        'temperature': data['temperature_2m'][hour],\n",
    "        #'humidity': data['humidity'][hour],\n",
    "        #'wind_speed': data['wind_speed'][hour],\n",
    "        #'precipitation': data['precipitation'][hour]\n",
    "    }\n",
    "    for hour in range(len(data.get('time', [])))\n",
    "]"
   ]
  },
  {
   "cell_type": "code",
   "execution_count": 23,
   "id": "0cabc7aa",
   "metadata": {},
   "outputs": [
    {
     "data": {
      "text/plain": [
       "[{'timestamp': '2025-05-26T0:00:00', 'temperature': 14.6},\n",
       " {'timestamp': '2025-05-26T1:00:00', 'temperature': 13.9},\n",
       " {'timestamp': '2025-05-26T2:00:00', 'temperature': 13.6},\n",
       " {'timestamp': '2025-05-26T3:00:00', 'temperature': 14.5},\n",
       " {'timestamp': '2025-05-26T4:00:00', 'temperature': 16.5},\n",
       " {'timestamp': '2025-05-26T5:00:00', 'temperature': 19.1},\n",
       " {'timestamp': '2025-05-26T6:00:00', 'temperature': 21.7},\n",
       " {'timestamp': '2025-05-26T7:00:00', 'temperature': 24.3},\n",
       " {'timestamp': '2025-05-26T8:00:00', 'temperature': 26.2},\n",
       " {'timestamp': '2025-05-26T9:00:00', 'temperature': 27.0},\n",
       " {'timestamp': '2025-05-26T10:00:00', 'temperature': 27.7},\n",
       " {'timestamp': '2025-05-26T11:00:00', 'temperature': 28.0},\n",
       " {'timestamp': '2025-05-26T12:00:00', 'temperature': 28.2},\n",
       " {'timestamp': '2025-05-26T13:00:00', 'temperature': 28.0},\n",
       " {'timestamp': '2025-05-26T14:00:00', 'temperature': 27.7},\n",
       " {'timestamp': '2025-05-26T15:00:00', 'temperature': 27.0},\n",
       " {'timestamp': '2025-05-26T16:00:00', 'temperature': 26.0},\n",
       " {'timestamp': '2025-05-26T17:00:00', 'temperature': 24.1},\n",
       " {'timestamp': '2025-05-26T18:00:00', 'temperature': 21.9},\n",
       " {'timestamp': '2025-05-26T19:00:00', 'temperature': 20.0},\n",
       " {'timestamp': '2025-05-26T20:00:00', 'temperature': 19.1},\n",
       " {'timestamp': '2025-05-26T21:00:00', 'temperature': 18.6},\n",
       " {'timestamp': '2025-05-26T22:00:00', 'temperature': 17.9},\n",
       " {'timestamp': '2025-05-26T23:00:00', 'temperature': 17.6}]"
      ]
     },
     "execution_count": 23,
     "metadata": {},
     "output_type": "execute_result"
    }
   ],
   "source": [
    "records"
   ]
  },
  {
   "cell_type": "markdown",
   "id": "835bd2c7",
   "metadata": {},
   "source": [
    "## 3 ШАГ: Генерация DBT"
   ]
  },
  {
   "cell_type": "code",
   "execution_count": 10,
   "id": "e77c620a",
   "metadata": {},
   "outputs": [],
   "source": [
    "dbt_llm = DbtGenerator(analytics_specification=spec)\n",
    "\n",
    "#dbt_llm._generate_sources()\n",
    "dbt_llm.fill_and_save_project()"
   ]
  }
 ],
 "metadata": {
  "kernelspec": {
   "display_name": "venv",
   "language": "python",
   "name": "python3"
  },
  "language_info": {
   "codemirror_mode": {
    "name": "ipython",
    "version": 3
   },
   "file_extension": ".py",
   "mimetype": "text/x-python",
   "name": "python",
   "nbconvert_exporter": "python",
   "pygments_lexer": "ipython3",
   "version": "3.10.12"
  }
 },
 "nbformat": 4,
 "nbformat_minor": 5
}
