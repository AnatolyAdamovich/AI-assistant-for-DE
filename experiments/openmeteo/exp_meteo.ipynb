{
 "cells": [
  {
   "cell_type": "markdown",
   "id": "edb110e4",
   "metadata": {},
   "source": [
    "# libs"
   ]
  },
  {
   "cell_type": "code",
   "execution_count": 7,
   "id": "4cf154fd",
   "metadata": {},
   "outputs": [],
   "source": [
    "import sys\n",
    "import os\n",
    "\n",
    "src_path = os.path.abspath(os.path.join(os.getcwd(), '..'))\n",
    "if src_path not in sys.path:\n",
    "    sys.path.append(src_path)"
   ]
  },
  {
   "cell_type": "code",
   "execution_count": 8,
   "id": "624d9f84",
   "metadata": {},
   "outputs": [],
   "source": [
    "import logging\n",
    "from src.core.llm_generators.specification import AnalyticsSpecGenerator\n",
    "from src.core.llm_generators.airflow import AirflowDagGenerator\n",
    "from src.core.llm_generators.dbt import DbtGenerator\n",
    "from src.core.llm_generators.dashboards import MetabaseDashboardGenerator\n",
    "from src.config.prompts import prompts\n",
    "from src.config.settings import settings"
   ]
  },
  {
   "cell_type": "code",
   "execution_count": 9,
   "id": "00d8a07d",
   "metadata": {},
   "outputs": [],
   "source": [
    "# logging.basicConfig(level=logging.INFO, filemode=\"w\", filename=\"exp_meteo.log\")\n",
    "logging.basicConfig(level=logging.INFO)"
   ]
  },
  {
   "cell_type": "markdown",
   "id": "1374bd8d",
   "metadata": {},
   "source": [
    "## 1 ШАГ: Описание / Генерация ТЗ"
   ]
  },
  {
   "cell_type": "code",
   "execution_count": 10,
   "id": "d43f9e31",
   "metadata": {},
   "outputs": [],
   "source": [
    "user_description = \"\"\"\n",
    "Необходимо построить аналитическую систему для мониторинга погодных условий в Москве. \n",
    "Предполагается, что аналитикой будут пользоваться синоптики.\n",
    "\n",
    "Источником данных является OpenMeteo API.\n",
    "Требуется ежедневно (ночью в период с 00:00 по 02:00) собирать информацию о показателях за прошедший день:\n",
    "    * температуре воздуха (на уровне 2 метра над землей)\n",
    "    * влажности (на уровне 2 метра над землей)\n",
    "    * скорости ветра (10 метров)\n",
    "    * осадках\n",
    "\n",
    "На основе этих данных нужно рассчитывать среднесуточные значения, а также выявлять дни с экстремальными погодными условиями (например, сильный ветер или аномально высокая температура). \n",
    "Итоговый дашборд должен отображать динамику погодных параметров и выделять аномалии.\"\n",
    "\"\"\""
   ]
  },
  {
   "cell_type": "markdown",
   "id": "20249ed8",
   "metadata": {},
   "source": [
    "### GigaChat 2 Pro"
   ]
  },
  {
   "cell_type": "code",
   "execution_count": 25,
   "id": "5c5b8468",
   "metadata": {},
   "outputs": [
    {
     "name": "stderr",
     "output_type": "stream",
     "text": [
      "INFO:SPECIFICATION:Используется just-ai/gigachat/GigaChat-2-Pro с температурой 0.5\n"
     ]
    }
   ],
   "source": [
    "spec_gen = AnalyticsSpecGenerator(with_metrics=True)"
   ]
  },
  {
   "cell_type": "code",
   "execution_count": 26,
   "id": "5e209e6a",
   "metadata": {},
   "outputs": [
    {
     "name": "stderr",
     "output_type": "stream",
     "text": [
      "INFO:httpx:HTTP Request: POST https://caila.io/api/adapters/openai/chat/completions \"HTTP/1.1 200 \"\n",
      "INFO:SPECIFICATION:Токены: всего=1364, prompt=673, completion=691; Стоимость=$0.0000000000; Время=12.94 сек\n",
      "INFO:SPECIFICATION:ТЗ извлечено из пользовательского описания\n",
      "INFO:SPECIFICATION:Объект AnalyticsSpec загружен из словаря\n",
      "INFO:httpx:HTTP Request: POST https://caila.io/api/adapters/openai/chat/completions \"HTTP/1.1 200 \"\n",
      "INFO:SPECIFICATION:Токены: всего=1289, prompt=648, completion=641; Стоимость=$0.0000000000; Время=12.25 сек\n",
      "INFO:SPECIFICATION:Сгенерированы рекомендации\n",
      "INFO:SPECIFICATION:Объект AnalyticsSpec загружен из словаря\n",
      "INFO:SPECIFICATION:Извлеченное ТЗ сохранено в /home/ffrankusha/study/university/AI-assistant-for-DE/artifacts/analytics_spec.yml\n"
     ]
    }
   ],
   "source": [
    "spec_giga = spec_gen.generate_spec(user_description)"
   ]
  },
  {
   "cell_type": "markdown",
   "id": "2af99fb4",
   "metadata": {},
   "source": [
    "### YandexGPT Pro 5"
   ]
  },
  {
   "cell_type": "code",
   "execution_count": 27,
   "id": "3ee97764",
   "metadata": {},
   "outputs": [
    {
     "name": "stderr",
     "output_type": "stream",
     "text": [
      "INFO:SPECIFICATION:Используется just-ai/yandexgpt/yandexgpt/rc с температурой 0.5\n"
     ]
    }
   ],
   "source": [
    "spec_gen = AnalyticsSpecGenerator(with_metrics=True,\n",
    "                                  model=\"just-ai/yandexgpt/yandexgpt/rc\")"
   ]
  },
  {
   "cell_type": "code",
   "execution_count": 28,
   "id": "86c7c4ba",
   "metadata": {},
   "outputs": [
    {
     "name": "stderr",
     "output_type": "stream",
     "text": [
      "INFO:httpx:HTTP Request: POST https://caila.io/api/adapters/openai/chat/completions \"HTTP/1.1 200 \"\n",
      "INFO:SPECIFICATION:Токены: всего=1423, prompt=711, completion=712; Стоимость=$0.0000000000; Время=9.85 сек\n",
      "INFO:SPECIFICATION:ТЗ извлечено из пользовательского описания\n",
      "INFO:SPECIFICATION:Объект AnalyticsSpec загружен из словаря\n",
      "INFO:httpx:HTTP Request: POST https://caila.io/api/adapters/openai/chat/completions \"HTTP/1.1 200 \"\n",
      "INFO:SPECIFICATION:Токены: всего=1385, prompt=630, completion=755; Стоимость=$0.0000000000; Время=9.93 сек\n",
      "INFO:SPECIFICATION:Сгенерированы рекомендации\n",
      "INFO:SPECIFICATION:Объект AnalyticsSpec загружен из словаря\n",
      "INFO:SPECIFICATION:Извлеченное ТЗ сохранено в /home/ffrankusha/study/university/AI-assistant-for-DE/artifacts/analytics_spec.yml\n"
     ]
    }
   ],
   "source": [
    "spec_yandex = spec_gen.generate_spec(user_description)"
   ]
  },
  {
   "cell_type": "markdown",
   "id": "e393dc92",
   "metadata": {},
   "source": [
    "### Gemini"
   ]
  },
  {
   "cell_type": "code",
   "execution_count": 35,
   "id": "553c2ad8",
   "metadata": {},
   "outputs": [
    {
     "name": "stderr",
     "output_type": "stream",
     "text": [
      "INFO:SPECIFICATION:Используется just-ai/gemini/gemini-2.0-flash с температурой 0.5\n"
     ]
    }
   ],
   "source": [
    "spec_gen = AnalyticsSpecGenerator(with_metrics=True,\n",
    "                                  model=\"just-ai/gemini/gemini-2.0-flash\")"
   ]
  },
  {
   "cell_type": "code",
   "execution_count": null,
   "id": "81be686b",
   "metadata": {},
   "outputs": [
    {
     "name": "stderr",
     "output_type": "stream",
     "text": [
      "INFO:httpx:HTTP Request: POST https://caila.io/api/adapters/openai/chat/completions \"HTTP/1.1 200 \"\n",
      "INFO:SPECIFICATION:Токены: всего=1744, prompt=770, completion=974; Стоимость=$0.0000000000; Время=5.94 сек\n",
      "INFO:SPECIFICATION:ТЗ извлечено из пользовательского описания\n",
      "INFO:SPECIFICATION:Объект AnalyticsSpec загружен из словаря\n",
      "INFO:httpx:HTTP Request: POST https://caila.io/api/adapters/openai/chat/completions \"HTTP/1.1 200 \"\n",
      "INFO:SPECIFICATION:Токены: всего=1980, prompt=822, completion=1158; Стоимость=$0.0000000000; Время=6.96 сек\n",
      "INFO:SPECIFICATION:Сгенерированы рекомендации\n",
      "INFO:SPECIFICATION:Объект AnalyticsSpec загружен из словаря\n",
      "INFO:SPECIFICATION:Извлеченное ТЗ сохранено в /home/ffrankusha/study/university/AI-assistant-for-DE/artifacts/analytics_spec.yml\n"
     ]
    }
   ],
   "source": [
    "spec_gemini = spec_gen.generate_spec(user_description)"
   ]
  },
  {
   "cell_type": "code",
   "execution_count": 35,
   "id": "dc432658",
   "metadata": {},
   "outputs": [
    {
     "data": {
      "text/plain": [
       "0.167776"
      ]
     },
     "execution_count": 35,
     "metadata": {},
     "output_type": "execute_result"
    }
   ],
   "source": [
    "(0.017 * (822+770) / 1000) + (0.066*(974+1158) / 1000)"
   ]
  },
  {
   "cell_type": "code",
   "execution_count": 20,
   "id": "392ec9e3",
   "metadata": {},
   "outputs": [
    {
     "name": "stderr",
     "output_type": "stream",
     "text": [
      "INFO:SPECIFICATION:Объект AnalyticsSpec загружен из словаря\n"
     ]
    }
   ],
   "source": [
    "spec_t_pro = spec_gen._from_dict_to_analytics_spec(t)"
   ]
  },
  {
   "cell_type": "markdown",
   "id": "d0fb7ef7",
   "metadata": {},
   "source": [
    "## 2 ШАГ: Генерация Airflow DAG"
   ]
  },
  {
   "cell_type": "code",
   "execution_count": 9,
   "id": "efdd026d",
   "metadata": {},
   "outputs": [
    {
     "name": "stderr",
     "output_type": "stream",
     "text": [
      "INFO:SPECIFICATION:Используется just-ai/gigachat/GigaChat-2-Pro с температурой 0.0\n",
      "INFO:SPECIFICATION:Объект AnalyticsSpec загружен из файла ../artifacts/deploy_meteo/analytics_spec_gigachat.yml\n"
     ]
    }
   ],
   "source": [
    "spec_gen = AnalyticsSpecGenerator(user_description)\n",
    "spec = spec_gen._from_yml_to_analytics_spec(\"../artifacts/deploy_meteo/analytics_spec_gigachat.yml\")"
   ]
  },
  {
   "cell_type": "markdown",
   "id": "683e2fab",
   "metadata": {},
   "source": [
    "### Gpt-4o"
   ]
  },
  {
   "cell_type": "code",
   "execution_count": 10,
   "id": "141a3fb1",
   "metadata": {},
   "outputs": [
    {
     "name": "stderr",
     "output_type": "stream",
     "text": [
      "INFO:AIRFLOW:Используется just-ai/openai-proxy/gpt-4o с температурой 0.0\n",
      "INFO:httpx:HTTP Request: POST https://caila.io/api/adapters/openai/chat/completions \"HTTP/1.1 200 \"\n",
      "INFO:AIRFLOW:Токены: всего=282, prompt=231, completion=51; Стоимость=0.179 ₽; Время=1.03 сек\n",
      "INFO:AIRFLOW:Аргументы для DAG сгенерированы\n",
      "INFO:httpx:HTTP Request: POST https://caila.io/api/adapters/openai/chat/completions \"HTTP/1.1 200 \"\n",
      "INFO:AIRFLOW:Токены: всего=5584, prompt=4784, completion=800; Стоимость=3.281 ₽; Время=8.39 сек\n",
      "INFO:AIRFLOW:Функция moving_data_from_source_to_dwh сгенерирована\n",
      "INFO:AIRFLOW:Шаблон DAG заполнен\n",
      "INFO:AIRFLOW:DAG сохранен в /home/ffrankusha/study/university/AI-assistant-for-DE/artifacts/deploy/dags/weather_monitoring_moscow.py\n"
     ]
    }
   ],
   "source": [
    "airflow_gen = AirflowDagGenerator(analytics_specification=spec,\n",
    "                                  with_metrics=True)\n",
    "airflow_gen.generate_dag()"
   ]
  },
  {
   "cell_type": "markdown",
   "id": "c4b0d20a",
   "metadata": {},
   "source": [
    "### DeepSeek"
   ]
  },
  {
   "cell_type": "code",
   "execution_count": 11,
   "id": "2cd1b424",
   "metadata": {},
   "outputs": [
    {
     "name": "stderr",
     "output_type": "stream",
     "text": [
      "INFO:AIRFLOW:Используется just-ai/deepseek/deepseek-r1 с температурой 0.0\n",
      "INFO:httpx:HTTP Request: POST https://caila.io/api/adapters/openai/chat/completions \"HTTP/1.1 200 \"\n",
      "INFO:AIRFLOW:Токены: всего=720, prompt=244, completion=476; Стоимость=0.750 ₽; Время=8.23 сек\n",
      "INFO:AIRFLOW:Аргументы для DAG сгенерированы\n",
      "INFO:httpx:HTTP Request: POST https://caila.io/api/adapters/openai/chat/completions \"HTTP/1.1 200 \"\n",
      "INFO:AIRFLOW:Токены: всего=6751, prompt=5015, completion=1736; Стоимость=4.799 ₽; Время=26.30 сек\n",
      "INFO:AIRFLOW:Функция moving_data_from_source_to_dwh сгенерирована\n",
      "INFO:AIRFLOW:Шаблон DAG заполнен\n",
      "INFO:AIRFLOW:DAG сохранен в /home/ffrankusha/study/university/AI-assistant-for-DE/artifacts/deploy/dags/weather_in_moscow.py\n"
     ]
    }
   ],
   "source": [
    "airflow_gen = AirflowDagGenerator(analytics_specification=spec,\n",
    "                                  with_metrics=True,\n",
    "                                  model=\"just-ai/deepseek/deepseek-r1\")\n",
    "airflow_gen.generate_dag()"
   ]
  },
  {
   "cell_type": "markdown",
   "id": "99463617",
   "metadata": {},
   "source": [
    "### Claude"
   ]
  },
  {
   "cell_type": "code",
   "execution_count": 12,
   "id": "08398b45",
   "metadata": {},
   "outputs": [
    {
     "name": "stderr",
     "output_type": "stream",
     "text": [
      "INFO:AIRFLOW:Используется just-ai/claude/claude-sonnet-4 с температурой 0.0\n",
      "INFO:httpx:HTTP Request: POST https://caila.io/api/adapters/openai/chat/completions \"HTTP/1.1 200 \"\n",
      "INFO:AIRFLOW:Токены: всего=370, prompt=303, completion=67; Стоимость=0.316 ₽; Время=2.99 сек\n",
      "INFO:AIRFLOW:Аргументы для DAG сгенерированы\n",
      "INFO:httpx:HTTP Request: POST https://caila.io/api/adapters/openai/chat/completions \"HTTP/1.1 200 \"\n",
      "INFO:AIRFLOW:Токены: всего=6443, prompt=5385, completion=1058; Стоимость=5.289 ₽; Время=16.95 сек\n",
      "INFO:AIRFLOW:Функция moving_data_from_source_to_dwh сгенерирована\n",
      "INFO:AIRFLOW:Шаблон DAG заполнен\n",
      "INFO:AIRFLOW:DAG сохранен в /home/ffrankusha/study/university/AI-assistant-for-DE/artifacts/deploy/dags/weather_moscow_monitoring.py\n"
     ]
    }
   ],
   "source": [
    "airflow_gen = AirflowDagGenerator(analytics_specification=spec,\n",
    "                                  with_metrics=True,\n",
    "                                  model=\"just-ai/claude/claude-sonnet-4\")\n",
    "airflow_gen.generate_dag()"
   ]
  },
  {
   "cell_type": "markdown",
   "id": "906671ef",
   "metadata": {},
   "source": [
    "### YandexGPT Pro 5"
   ]
  },
  {
   "cell_type": "code",
   "execution_count": 13,
   "id": "3d9598ce",
   "metadata": {},
   "outputs": [
    {
     "name": "stderr",
     "output_type": "stream",
     "text": [
      "INFO:AIRFLOW:Используется just-ai/yandexgpt/yandexgpt/rc с температурой 0.0\n",
      "INFO:httpx:HTTP Request: POST https://caila.io/api/adapters/openai/chat/completions \"HTTP/1.1 200 \"\n",
      "INFO:AIRFLOW:Токены: всего=267, prompt=210, completion=57; Стоимость=0.160 ₽; Время=1.04 сек\n",
      "INFO:AIRFLOW:Аргументы для DAG сгенерированы\n",
      "INFO:httpx:HTTP Request: POST https://caila.io/api/adapters/openai/chat/completions \"HTTP/1.1 200 \"\n",
      "INFO:AIRFLOW:Токены: всего=5700, prompt=5227, completion=473; Стоимость=3.420 ₽; Время=7.59 сек\n",
      "INFO:AIRFLOW:Функция moving_data_from_source_to_dwh сгенерирована\n",
      "INFO:AIRFLOW:Шаблон DAG заполнен\n",
      "INFO:AIRFLOW:DAG сохранен в /home/ffrankusha/study/university/AI-assistant-for-DE/artifacts/deploy/dags/Погода в Москве.py\n"
     ]
    }
   ],
   "source": [
    "airflow_gen = AirflowDagGenerator(analytics_specification=spec,\n",
    "                                  with_metrics=True,\n",
    "                                  model=\"just-ai/yandexgpt/yandexgpt/rc\")\n",
    "airflow_gen.generate_dag()"
   ]
  },
  {
   "cell_type": "markdown",
   "id": "835bd2c7",
   "metadata": {},
   "source": [
    "## 3 ШАГ: Генерация DBT"
   ]
  },
  {
   "cell_type": "code",
   "execution_count": 6,
   "id": "71425b98",
   "metadata": {},
   "outputs": [
    {
     "name": "stderr",
     "output_type": "stream",
     "text": [
      "INFO:SPECIFICATION:Используется just-ai/gigachat/GigaChat-2-Pro с температурой 0.0\n",
      "INFO:SPECIFICATION:Объект AnalyticsSpec загружен из файла ../artifacts/analytics_spec_gigachat.yml\n"
     ]
    }
   ],
   "source": [
    "spec_gen = AnalyticsSpecGenerator(user_description)\n",
    "spec = spec_gen._from_yml_to_analytics_spec(\"../artifacts/analytics_spec_gigachat.yml\")"
   ]
  },
  {
   "cell_type": "markdown",
   "id": "44722583",
   "metadata": {},
   "source": [
    "### GPT-4o"
   ]
  },
  {
   "cell_type": "code",
   "execution_count": 8,
   "id": "e77c620a",
   "metadata": {},
   "outputs": [
    {
     "name": "stderr",
     "output_type": "stream",
     "text": [
      "INFO:DBT:Используется just-ai/openai-proxy/gpt-4o с температурой 0.0\n",
      "INFO:root:sources.yml сгенерирован\n",
      "INFO:DBT:Файл сохранен /home/ffrankusha/study/university/AI-assistant-for-DE/artifacts/deploy/dbt/models/source.yml\n",
      "INFO:root:profiles.yml сгенерирован\n",
      "INFO:DBT:Файл сохранен /home/ffrankusha/study/university/AI-assistant-for-DE/artifacts/deploy/dbt/profiles.yml\n",
      "INFO:httpx:HTTP Request: POST https://caila.io/api/adapters/openai/chat/completions \"HTTP/1.1 200 \"\n",
      "INFO:DBT:Токены: всего=840, prompt=443, completion=397; Стоимость=0.837 ₽; Время=5.31 сек\n",
      "INFO:root:Stage-модели сгенерированы\n",
      "INFO:DBT:Файл сохранен /home/ffrankusha/study/university/AI-assistant-for-DE/artifacts/deploy/dbt/models/stage/schema.yml\n",
      "INFO:DBT:Файл сохранен /home/ffrankusha/study/university/AI-assistant-for-DE/artifacts/deploy/dbt/models/stage/stg_openmeteo_api.sql\n",
      "INFO:httpx:HTTP Request: POST https://caila.io/api/adapters/openai/chat/completions \"HTTP/1.1 200 \"\n",
      "INFO:DBT:Токены: всего=2190, prompt=720, completion=1470; Стоимость=2.721 ₽; Время=24.40 сек\n",
      "INFO:root:Core-модели сгенерированы\n",
      "INFO:DBT:Файл сохранен /home/ffrankusha/study/university/AI-assistant-for-DE/artifacts/deploy/dbt/models/core/schema.yml\n",
      "INFO:DBT:Файл сохранен /home/ffrankusha/study/university/AI-assistant-for-DE/artifacts/deploy/dbt/models/core/int_daily_weather_metrics.sql\n",
      "INFO:DBT:Файл сохранен /home/ffrankusha/study/university/AI-assistant-for-DE/artifacts/deploy/dbt/models/core/int_temperature_anomalies.sql\n",
      "INFO:DBT:Файл сохранен /home/ffrankusha/study/university/AI-assistant-for-DE/artifacts/deploy/dbt/models/core/int_comfort_index.sql\n",
      "INFO:httpx:HTTP Request: POST https://caila.io/api/adapters/openai/chat/completions \"HTTP/1.1 200 \"\n",
      "INFO:DBT:Токены: всего=2332, prompt=1285, completion=1047; Стоимость=2.254 ₽; Время=11.62 сек\n",
      "INFO:root:Marts-модели сгенерированы\n",
      "INFO:DBT:Файл сохранен /home/ffrankusha/study/university/AI-assistant-for-DE/artifacts/deploy/dbt/models/marts/schema.yml\n",
      "INFO:DBT:Файл сохранен /home/ffrankusha/study/university/AI-assistant-for-DE/artifacts/deploy/dbt/models/marts/daily_weather_metrics.sql\n",
      "INFO:DBT:Файл сохранен /home/ffrankusha/study/university/AI-assistant-for-DE/artifacts/deploy/dbt/models/marts/temperature_anomalies.sql\n",
      "INFO:DBT:Файл сохранен /home/ffrankusha/study/university/AI-assistant-for-DE/artifacts/deploy/dbt/models/marts/comfort_index.sql\n"
     ]
    }
   ],
   "source": [
    "dbt_llm = DbtGenerator(analytics_specification=spec,\n",
    "                       with_metrics=True)\n",
    "dbt_llm.generate_project()"
   ]
  },
  {
   "cell_type": "markdown",
   "id": "4c21788b",
   "metadata": {},
   "source": [
    "### Claude Opus 4"
   ]
  },
  {
   "cell_type": "code",
   "execution_count": 7,
   "id": "6822fdf2",
   "metadata": {},
   "outputs": [
    {
     "name": "stderr",
     "output_type": "stream",
     "text": [
      "INFO:DBT:Используется just-ai/claude/claude-opus-4 с температурой 0.0\n",
      "INFO:root:sources.yml сгенерирован\n",
      "INFO:DBT:Файл сохранен /home/ffrankusha/study/university/AI-assistant-for-DE/artifacts/deploy/dbt/models/source.yml\n",
      "INFO:root:profiles.yml сгенерирован\n",
      "INFO:DBT:Файл сохранен /home/ffrankusha/study/university/AI-assistant-for-DE/artifacts/deploy/dbt/profiles.yml\n",
      "INFO:httpx:HTTP Request: POST https://caila.io/api/adapters/openai/chat/completions \"HTTP/1.1 200 \"\n",
      "INFO:DBT:Токены: всего=1532, prompt=551, completion=981; Стоимость=13.509 ₽; Время=17.24 сек\n",
      "INFO:root:Stage-модели сгенерированы\n",
      "INFO:DBT:Файл сохранен /home/ffrankusha/study/university/AI-assistant-for-DE/artifacts/deploy/dbt/models/stage/schema.yml\n",
      "INFO:DBT:Файл сохранен /home/ffrankusha/study/university/AI-assistant-for-DE/artifacts/deploy/dbt/models/stage/stg_weather_metrics.sql\n",
      "INFO:httpx:HTTP Request: POST https://caila.io/api/adapters/openai/chat/completions \"HTTP/1.1 200 \"\n",
      "INFO:DBT:Токены: всего=4413, prompt=1104, completion=3309; Стоимость=43.698 ₽; Время=51.75 сек\n",
      "INFO:root:Core-модели сгенерированы\n",
      "INFO:DBT:Файл сохранен /home/ffrankusha/study/university/AI-assistant-for-DE/artifacts/deploy/dbt/models/core/schema.yml\n",
      "INFO:DBT:Файл сохранен /home/ffrankusha/study/university/AI-assistant-for-DE/artifacts/deploy/dbt/models/core/int_weather_daily_aggregates.sql\n",
      "INFO:DBT:Файл сохранен /home/ffrankusha/study/university/AI-assistant-for-DE/artifacts/deploy/dbt/models/core/int_weather_comfort_index.sql\n",
      "INFO:DBT:Файл сохранен /home/ffrankusha/study/university/AI-assistant-for-DE/artifacts/deploy/dbt/models/core/int_weather_anomalies.sql\n",
      "INFO:httpx:HTTP Request: POST https://caila.io/api/adapters/openai/chat/completions \"HTTP/1.1 200 \"\n",
      "INFO:DBT:Токены: всего=5344, prompt=2124, completion=3220; Стоимость=45.121 ₽; Время=47.74 сек\n",
      "INFO:root:Marts-модели сгенерированы\n",
      "INFO:DBT:Файл сохранен /home/ffrankusha/study/university/AI-assistant-for-DE/artifacts/deploy/dbt/models/marts/schema.yml\n",
      "INFO:DBT:Файл сохранен /home/ffrankusha/study/university/AI-assistant-for-DE/artifacts/deploy/dbt/models/marts/mart_weather_daily_metrics.sql\n",
      "INFO:DBT:Файл сохранен /home/ffrankusha/study/university/AI-assistant-for-DE/artifacts/deploy/dbt/models/marts/mart_weather_anomalies.sql\n",
      "INFO:DBT:Файл сохранен /home/ffrankusha/study/university/AI-assistant-for-DE/artifacts/deploy/dbt/models/marts/mart_weather_comfort.sql\n",
      "INFO:DBT:Файл сохранен /home/ffrankusha/study/university/AI-assistant-for-DE/artifacts/deploy/dbt/models/marts/mart_weather_summary.sql\n"
     ]
    }
   ],
   "source": [
    "dbt_llm = DbtGenerator(analytics_specification=spec,\n",
    "                       with_metrics=True,\n",
    "                       model=\"just-ai/claude/claude-opus-4\")\n",
    "dbt_llm.generate_project()"
   ]
  },
  {
   "cell_type": "markdown",
   "id": "7da88226",
   "metadata": {},
   "source": [
    "### GigaChat 2 Max"
   ]
  },
  {
   "cell_type": "code",
   "execution_count": 7,
   "id": "e9d65443",
   "metadata": {},
   "outputs": [
    {
     "name": "stderr",
     "output_type": "stream",
     "text": [
      "INFO:DBT:Используется just-ai/gigachat/GigaChat-2-Max с температурой 0.0\n",
      "INFO:root:sources.yml сгенерирован\n",
      "INFO:DBT:Файл сохранен /home/ffrankusha/study/university/AI-assistant-for-DE/artifacts/deploy/dbt/models/source.yml\n",
      "INFO:root:profiles.yml сгенерирован\n",
      "INFO:DBT:Файл сохранен /home/ffrankusha/study/university/AI-assistant-for-DE/artifacts/deploy/dbt/profiles.yml\n",
      "INFO:httpx:HTTP Request: POST https://caila.io/api/adapters/openai/chat/completions \"HTTP/1.1 200 \"\n",
      "INFO:DBT:Токены: всего=512, prompt=30, completion=482; Стоимость=0.998 ₽; Время=9.25 сек\n",
      "INFO:root:Stage-модели сгенерированы\n",
      "INFO:DBT:Файл сохранен /home/ffrankusha/study/university/AI-assistant-for-DE/artifacts/deploy/dbt/models/stage/schema.yml\n",
      "INFO:DBT:Файл сохранен /home/ffrankusha/study/university/AI-assistant-for-DE/artifacts/deploy/dbt/models/stage/stg_openmeteo_api.sql\n",
      "INFO:httpx:HTTP Request: POST https://caila.io/api/adapters/openai/chat/completions \"HTTP/1.1 200 \"\n",
      "INFO:DBT:Токены: всего=1647, prompt=786, completion=861; Стоимость=3.212 ₽; Время=16.24 сек\n",
      "INFO:root:Core-модели сгенерированы\n",
      "INFO:DBT:Файл сохранен /home/ffrankusha/study/university/AI-assistant-for-DE/artifacts/deploy/dbt/models/core/schema.yml\n",
      "INFO:DBT:Файл сохранен /home/ffrankusha/study/university/AI-assistant-for-DE/artifacts/deploy/dbt/models/core/int_daily_weather.sql\n",
      "INFO:DBT:Файл сохранен /home/ffrankusha/study/university/AI-assistant-for-DE/artifacts/deploy/dbt/models/core/int_temperature_anomalies.sql\n",
      "INFO:DBT:Файл сохранен /home/ffrankusha/study/university/AI-assistant-for-DE/artifacts/deploy/dbt/models/core/int_comfort_index.sql\n",
      "INFO:httpx:HTTP Request: POST https://caila.io/api/adapters/openai/chat/completions \"HTTP/1.1 200 \"\n",
      "INFO:DBT:Токены: всего=1735, prompt=1019, completion=716; Стоимость=3.383 ₽; Время=13.18 сек\n",
      "INFO:root:Marts-модели сгенерированы\n",
      "INFO:DBT:Файл сохранен /home/ffrankusha/study/university/AI-assistant-for-DE/artifacts/deploy/dbt/models/marts/schema.yml\n",
      "INFO:DBT:Файл сохранен /home/ffrankusha/study/university/AI-assistant-for-DE/artifacts/deploy/dbt/models/marts/mart_daily_weather.sql\n",
      "INFO:DBT:Файл сохранен /home/ffrankusha/study/university/AI-assistant-for-DE/artifacts/deploy/dbt/models/marts/mart_temperature_anomalies.sql\n",
      "INFO:DBT:Файл сохранен /home/ffrankusha/study/university/AI-assistant-for-DE/artifacts/deploy/dbt/models/marts/mart_comfort_index.sql\n"
     ]
    }
   ],
   "source": [
    "dbt_llm = DbtGenerator(analytics_specification=spec,\n",
    "                       with_metrics=True,\n",
    "                       model=\"just-ai/gigachat/GigaChat-2-Max\")\n",
    "dbt_llm.generate_project()"
   ]
  },
  {
   "cell_type": "markdown",
   "id": "b98d5574",
   "metadata": {},
   "source": [
    "### DeepSeek"
   ]
  },
  {
   "cell_type": "code",
   "execution_count": 9,
   "id": "25094546",
   "metadata": {},
   "outputs": [
    {
     "name": "stderr",
     "output_type": "stream",
     "text": [
      "INFO:DBT:Используется just-ai/deepseek/deepseek-r1 с температурой 0.0\n",
      "INFO:root:sources.yml сгенерирован\n",
      "INFO:DBT:Файл сохранен /home/ffrankusha/study/university/AI-assistant-for-DE/artifacts/deploy/dbt/models/source.yml\n",
      "INFO:root:profiles.yml сгенерирован\n",
      "INFO:DBT:Файл сохранен /home/ffrankusha/study/university/AI-assistant-for-DE/artifacts/deploy/dbt/profiles.yml\n",
      "INFO:httpx:HTTP Request: POST https://caila.io/api/adapters/openai/chat/completions \"HTTP/1.1 200 \"\n",
      "INFO:DBT:Токены: всего=1376, prompt=462, completion=914; Стоимость=1.437 ₽; Время=17.72 сек\n",
      "INFO:root:Stage-модели сгенерированы\n",
      "INFO:DBT:Файл сохранен /home/ffrankusha/study/university/AI-assistant-for-DE/artifacts/deploy/dbt/models/stage/schema.yml\n",
      "INFO:DBT:Файл сохранен /home/ffrankusha/study/university/AI-assistant-for-DE/artifacts/deploy/dbt/models/stage/stg_open_meteo.sql\n",
      "INFO:httpx:HTTP Request: POST https://caila.io/api/adapters/openai/chat/completions \"HTTP/1.1 200 \"\n",
      "INFO:DBT:Токены: всего=4423, prompt=835, completion=3588; Стоимость=5.154 ₽; Время=53.67 сек\n",
      "INFO:root:Core-модели сгенерированы\n",
      "INFO:DBT:Файл сохранен /home/ffrankusha/study/university/AI-assistant-for-DE/artifacts/deploy/dbt/models/core/schema.yml\n",
      "INFO:DBT:Файл сохранен /home/ffrankusha/study/university/AI-assistant-for-DE/artifacts/deploy/dbt/models/core/int_daily_weather_metrics.sql\n",
      "INFO:DBT:Файл сохранен /home/ffrankusha/study/university/AI-assistant-for-DE/artifacts/deploy/dbt/models/core/int_temperature_anomalies.sql\n",
      "INFO:DBT:Файл сохранен /home/ffrankusha/study/university/AI-assistant-for-DE/artifacts/deploy/dbt/models/core/int_comfort_index.sql\n",
      "INFO:httpx:HTTP Request: POST https://caila.io/api/adapters/openai/chat/completions \"HTTP/1.1 200 \"\n",
      "INFO:DBT:Токены: всего=3479, prompt=1179, completion=2300; Стоимость=3.626 ₽; Время=31.59 сек\n",
      "INFO:root:Marts-модели сгенерированы\n",
      "INFO:DBT:Файл сохранен /home/ffrankusha/study/university/AI-assistant-for-DE/artifacts/deploy/dbt/models/marts/schema.yml\n",
      "INFO:DBT:Файл сохранен /home/ffrankusha/study/university/AI-assistant-for-DE/artifacts/deploy/dbt/models/marts/fct_daily_weather.sql\n"
     ]
    }
   ],
   "source": [
    "dbt_llm = DbtGenerator(analytics_specification=spec,\n",
    "                       with_metrics=True,\n",
    "                       model=\"just-ai/deepseek/deepseek-r1\")\n",
    "dbt_llm.generate_project()"
   ]
  },
  {
   "cell_type": "markdown",
   "id": "9f420afa",
   "metadata": {},
   "source": [
    "## 4 ШАГ: генерация дашборда"
   ]
  },
  {
   "cell_type": "code",
   "execution_count": 11,
   "id": "7ea67f31",
   "metadata": {},
   "outputs": [],
   "source": [
    "import yaml\n",
    "with open(\"../artifacts/deploy/dbt/models/marts/schema.yml\", \"r\", encoding=\"utf-8\") as f:\n",
    "    schema = yaml.safe_load(f)"
   ]
  },
  {
   "cell_type": "code",
   "execution_count": 12,
   "id": "0695f81d",
   "metadata": {},
   "outputs": [
    {
     "name": "stderr",
     "output_type": "stream",
     "text": [
      "INFO:SPECIFICATION:Используется just-ai/gigachat/GigaChat-2-Pro с температурой 0.0\n",
      "INFO:SPECIFICATION:Объект AnalyticsSpec загружен из файла ../artifacts/analytics_spec_gigachat.yml\n"
     ]
    }
   ],
   "source": [
    "spec_gen = AnalyticsSpecGenerator(user_description)\n",
    "spec = spec_gen._from_yml_to_analytics_spec(\"../artifacts/analytics_spec_gigachat.yml\")\n",
    "\n",
    "metrics = spec.metrics"
   ]
  },
  {
   "cell_type": "markdown",
   "id": "93c85459",
   "metadata": {},
   "source": [
    "### GPT-4o"
   ]
  },
  {
   "cell_type": "code",
   "execution_count": 7,
   "id": "f99b494a",
   "metadata": {},
   "outputs": [
    {
     "name": "stderr",
     "output_type": "stream",
     "text": [
      "INFO:DASHBOARD:Аутентификация в Metabase прошла успешно!\n",
      "INFO:DASHBOARD:Используется just-ai/openai-proxy/gpt-4o с температурой 0.0\n",
      "INFO:httpx:HTTP Request: POST https://caila.io/api/adapters/openai/chat/completions \"HTTP/1.1 200 \"\n",
      "INFO:DASHBOARD:Токены: всего=2561, prompt=1959, completion=602; Стоимость=1.796 ₽; Время=7.18 сек\n",
      "INFO:DASHBOARD:Сгенерированы настройки для 6 карточек\n",
      "INFO:DASHBOARD:Карточка 'Среднесуточная температура' создана!\n",
      "INFO:DASHBOARD:Карточка 'Среднесуточная влажность' создана!\n",
      "INFO:DASHBOARD:Карточка 'Среднесуточная скорость ветра' создана!\n",
      "INFO:DASHBOARD:Карточка 'Осадки' создана!\n",
      "INFO:DASHBOARD:Карточка 'Температурные аномалии' создана!\n",
      "INFO:DASHBOARD:Карточка 'Индекс комфорта' создана!\n",
      "INFO:DASHBOARD:Дашборд 'Analytics Dashboard' создан!\n",
      "INFO:DASHBOARD:Карточка №129 добавлена на дашборд №129\n",
      "INFO:DASHBOARD:Карточка №130 добавлена на дашборд №129\n",
      "INFO:DASHBOARD:Карточка №131 добавлена на дашборд №129\n",
      "INFO:DASHBOARD:Карточка №132 добавлена на дашборд №129\n",
      "INFO:DASHBOARD:Карточка №133 добавлена на дашборд №129\n",
      "INFO:DASHBOARD:Карточка №134 добавлена на дашборд №129\n",
      "INFO:DASHBOARD:Аналитический дашборд готов к использованию\n"
     ]
    }
   ],
   "source": [
    "dash_gen = MetabaseDashboardGenerator(\n",
    "    metabase_url=settings.METABASE_URL,\n",
    "    username=settings.METABASE_USERNAME,\n",
    "    password=settings.METABASE_PASSWORD,\n",
    "    with_metrics=True,\n",
    "    model=\"just-ai/openai-proxy/gpt-4o\"\n",
    ")\n",
    "\n",
    "dash_gen.generate_dashboard(marts_schema=schema,\n",
    "                            metrics=metrics)"
   ]
  },
  {
   "cell_type": "markdown",
   "id": "1c92ad9a",
   "metadata": {},
   "source": [
    "### Claude Opus 4"
   ]
  },
  {
   "cell_type": "code",
   "execution_count": 15,
   "id": "56276650",
   "metadata": {},
   "outputs": [
    {
     "name": "stderr",
     "output_type": "stream",
     "text": [
      "INFO:DASHBOARD:Аутентификация в Metabase прошла успешно!\n",
      "INFO:DASHBOARD:Используется just-ai/claude/claude-opus-4 с температурой 0.0\n",
      "INFO:httpx:HTTP Request: POST https://caila.io/api/adapters/openai/chat/completions \"HTTP/1.1 200 \"\n",
      "INFO:DASHBOARD:Токены: всего=4507, prompt=2492, completion=2015; Стоимость=31.113 ₽; Время=36.68 сек\n",
      "INFO:DASHBOARD:Сгенерированы настройки для 11 карточек\n",
      "INFO:DASHBOARD:Карточка 'current_temperature' создана!\n",
      "INFO:DASHBOARD:Карточка 'temperature_trend' создана!\n",
      "INFO:DASHBOARD:Карточка 'humidity_trend' создана!\n",
      "INFO:DASHBOARD:Карточка 'wind_speed_trend' создана!\n",
      "INFO:DASHBOARD:Карточка 'precipitation_bars' создана!\n",
      "INFO:DASHBOARD:Карточка 'temperature_anomalies' создана!\n",
      "INFO:DASHBOARD:Карточка 'anomaly_severity_distribution' создана!\n",
      "INFO:DASHBOARD:Карточка 'comfort_index_heatmap' создана!\n",
      "INFO:DASHBOARD:Карточка 'daily_comfort_trend' создана!\n",
      "INFO:DASHBOARD:Карточка 'alerts_summary' создана!\n",
      "INFO:DASHBOARD:Карточка 'recent_alerts_table' создана!\n",
      "INFO:DASHBOARD:Дашборд 'Analytics Dashboard' создан!\n",
      "INFO:DASHBOARD:Карточка №153 добавлена на дашборд №132\n",
      "INFO:DASHBOARD:Карточка №154 добавлена на дашборд №132\n",
      "INFO:DASHBOARD:Карточка №155 добавлена на дашборд №132\n",
      "INFO:DASHBOARD:Карточка №156 добавлена на дашборд №132\n",
      "INFO:DASHBOARD:Карточка №157 добавлена на дашборд №132\n",
      "INFO:DASHBOARD:Карточка №158 добавлена на дашборд №132\n",
      "INFO:DASHBOARD:Карточка №159 добавлена на дашборд №132\n",
      "INFO:DASHBOARD:Карточка №160 добавлена на дашборд №132\n",
      "INFO:DASHBOARD:Карточка №161 добавлена на дашборд №132\n",
      "INFO:DASHBOARD:Карточка №162 добавлена на дашборд №132\n",
      "INFO:DASHBOARD:Карточка №163 добавлена на дашборд №132\n",
      "INFO:DASHBOARD:Аналитический дашборд готов к использованию\n"
     ]
    }
   ],
   "source": [
    "dash_gen = MetabaseDashboardGenerator(\n",
    "    metabase_url=settings.METABASE_URL,\n",
    "    username=settings.METABASE_USERNAME,\n",
    "    password=settings.METABASE_PASSWORD,\n",
    "    with_metrics=True,\n",
    "    model=\"just-ai/claude/claude-opus-4\"\n",
    ")\n",
    "\n",
    "dash_gen.generate_dashboard(marts_schema=schema,\n",
    "                            metrics=metrics)"
   ]
  },
  {
   "cell_type": "markdown",
   "id": "f165bf2d",
   "metadata": {},
   "source": [
    "### GigaChat 2 Pro"
   ]
  },
  {
   "cell_type": "code",
   "execution_count": null,
   "id": "b93a149c",
   "metadata": {},
   "outputs": [],
   "source": [
    "dash_gen = MetabaseDashboardGenerator(\n",
    "    metabase_url=settings.METABASE_URL,\n",
    "    username=settings.METABASE_USERNAME,\n",
    "    password=settings.METABASE_PASSWORD,\n",
    "    with_metrics=True,\n",
    "    model=\"just-ai/gigachat/GigaChat-2-Pro\"\n",
    ")\n",
    "dash_gen.generate_dashboard(marts_schema=schema,\n",
    "                            metrics=metrics)"
   ]
  },
  {
   "cell_type": "markdown",
   "id": "c08a6b18",
   "metadata": {},
   "source": [
    "### Gemini 2 Flash"
   ]
  },
  {
   "cell_type": "code",
   "execution_count": 13,
   "id": "7e86d9e2",
   "metadata": {},
   "outputs": [
    {
     "name": "stderr",
     "output_type": "stream",
     "text": [
      "INFO:DASHBOARD:Аутентификация в Metabase прошла успешно!\n",
      "INFO:DASHBOARD:Используется just-ai/gemini/gemini-2.0-flash с температурой 0.0\n"
     ]
    }
   ],
   "source": [
    "dash_gen = MetabaseDashboardGenerator(\n",
    "    metabase_url=settings.METABASE_URL,\n",
    "    username=settings.METABASE_USERNAME,\n",
    "    password=settings.METABASE_PASSWORD,\n",
    "    with_metrics=True,\n",
    "    model=\"just-ai/gemini/gemini-2.0-flash\"\n",
    ")"
   ]
  },
  {
   "cell_type": "code",
   "execution_count": 14,
   "id": "80fd436d",
   "metadata": {},
   "outputs": [
    {
     "name": "stderr",
     "output_type": "stream",
     "text": [
      "INFO:httpx:HTTP Request: POST https://caila.io/api/adapters/openai/chat/completions \"HTTP/1.1 200 \"\n",
      "INFO:DASHBOARD:Токены: всего=3053, prompt=2103, completion=950; Стоимость=0.098 ₽; Время=5.37 сек\n",
      "INFO:DASHBOARD:Сгенерированы настройки для 12 карточек\n",
      "INFO:DASHBOARD:Карточка 'Avg Daily Temperature' создана!\n",
      "INFO:DASHBOARD:Карточка 'Avg Daily Humidity' создана!\n",
      "INFO:DASHBOARD:Карточка 'Avg Daily Wind Speed' создана!\n",
      "INFO:DASHBOARD:Карточка 'Total Daily Precipitation' создана!\n",
      "INFO:DASHBOARD:Карточка 'Temperature Anomalies' создана!\n",
      "INFO:DASHBOARD:Карточка 'Average Comfort Index' создана!\n",
      "INFO:DASHBOARD:Карточка 'High Temperature Alerts' создана!\n",
      "INFO:DASHBOARD:Карточка 'High Humidity Alerts' создана!\n",
      "INFO:DASHBOARD:Карточка 'High Wind Alerts' создана!\n",
      "INFO:DASHBOARD:Карточка 'High Precipitation Alerts' создана!\n",
      "INFO:DASHBOARD:Карточка 'Significant Anomaly Alerts' создана!\n",
      "INFO:DASHBOARD:Карточка 'Low Comfort Alerts' создана!\n",
      "INFO:DASHBOARD:Дашборд 'Analytics Dashboard' создан!\n",
      "INFO:DASHBOARD:Карточка №141 добавлена на дашборд №131\n",
      "INFO:DASHBOARD:Карточка №142 добавлена на дашборд №131\n",
      "INFO:DASHBOARD:Карточка №143 добавлена на дашборд №131\n",
      "INFO:DASHBOARD:Карточка №144 добавлена на дашборд №131\n",
      "INFO:DASHBOARD:Карточка №145 добавлена на дашборд №131\n",
      "INFO:DASHBOARD:Карточка №146 добавлена на дашборд №131\n",
      "INFO:DASHBOARD:Карточка №147 добавлена на дашборд №131\n",
      "INFO:DASHBOARD:Карточка №148 добавлена на дашборд №131\n",
      "INFO:DASHBOARD:Карточка №149 добавлена на дашборд №131\n",
      "INFO:DASHBOARD:Карточка №150 добавлена на дашборд №131\n",
      "INFO:DASHBOARD:Карточка №151 добавлена на дашборд №131\n",
      "INFO:DASHBOARD:Карточка №152 добавлена на дашборд №131\n",
      "INFO:DASHBOARD:Аналитический дашборд готов к использованию\n"
     ]
    }
   ],
   "source": [
    "dash_gen.generate_dashboard(marts_schema=schema,\n",
    "                            metrics=metrics)"
   ]
  },
  {
   "cell_type": "code",
   "execution_count": null,
   "id": "36a91da4",
   "metadata": {},
   "outputs": [],
   "source": []
  }
 ],
 "metadata": {
  "kernelspec": {
   "display_name": "venv",
   "language": "python",
   "name": "python3"
  },
  "language_info": {
   "codemirror_mode": {
    "name": "ipython",
    "version": 3
   },
   "file_extension": ".py",
   "mimetype": "text/x-python",
   "name": "python",
   "nbconvert_exporter": "python",
   "pygments_lexer": "ipython3",
   "version": "3.10.12"
  }
 },
 "nbformat": 4,
 "nbformat_minor": 5
}
