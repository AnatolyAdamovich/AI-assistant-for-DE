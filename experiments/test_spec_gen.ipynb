{
 "cells": [
  {
   "cell_type": "code",
   "execution_count": 1,
   "id": "c8cd78c0",
   "metadata": {},
   "outputs": [],
   "source": [
    "import sys\n",
    "import os\n",
    "\n",
    "src_path = os.path.abspath(os.path.join(os.getcwd(), '..'))\n",
    "if src_path not in sys.path:\n",
    "    sys.path.append(src_path)"
   ]
  },
  {
   "cell_type": "code",
   "execution_count": 2,
   "id": "0e1a7ddb",
   "metadata": {},
   "outputs": [],
   "source": [
    "from src.core.llm_generators.specification import AnalyticsSpecGenerator\n",
    "from src.config.prompts import prompts\n",
    "from src.config.settings import settings"
   ]
  },
  {
   "cell_type": "markdown",
   "id": "7ed80dde",
   "metadata": {},
   "source": [
    "## Полное описание сразу"
   ]
  },
  {
   "cell_type": "code",
   "execution_count": 3,
   "id": "807cab73",
   "metadata": {},
   "outputs": [],
   "source": [
    "user_description = \"\"\"\n",
    "Мы хотим построить аналитику для интернет-магазина.\n",
    "Основная цель — анализировать продажи и поведение покупателей, чтобы повысить выручку и оптимизировать маркетинговые кампании.\n",
    "Пользователи аналитики — менеджеры по продажам и маркетологи. \n",
    "Менеджеры смотрят на продажи и считают выручку. Маркетологи смотрят на активность покупателей и предлагают рекламировать товары на основе спроса.\n",
    "К процессу также подключен продуктовый аналитик, который помогает маркетологам и менеджерам.\n",
    "\n",
    "Данные хранятся в PostgreSQL. Есть две основные таблицы:\n",
    "\n",
    "orders: содержит информацию о заказах (order_id, product_id, timestamp, customer_id, amount)\n",
    "customers: содержит информацию о клиентах (customer_id, name, region_id, age)\n",
    "\n",
    "В среднем ежедневно планируется около 20000 заказов. Покупателей сейчас всего около 250000.\n",
    "\n",
    "Ключевые метрики:\n",
    "\n",
    "* Общая сумма продаж по дням\n",
    "* Сумма продаж по регионам\n",
    "* Количество уникальных покупателей по регионам\n",
    "* Средний чек\n",
    "\n",
    "Данные должны обновляться ежедневно, желательно ночью в промежуток между 00:00 и 05:00 (например в 03:00).\n",
    "В дальнейшем планируется добавить витрины для анализа повторных покупок и сегментации клиентов.\n",
    "Важно учитывать возможные ограничения по GDPR.\n",
    "\"\"\""
   ]
  },
  {
   "cell_type": "code",
   "execution_count": 3,
   "id": "483165ec",
   "metadata": {},
   "outputs": [],
   "source": [
    "spec_gen = AnalyticsSpecGenerator()"
   ]
  },
  {
   "cell_type": "code",
   "execution_count": null,
   "id": "d2823f06",
   "metadata": {},
   "outputs": [],
   "source": [
    "result = spec_gen.extract_info_from_users_desription(user_description)"
   ]
  },
  {
   "cell_type": "markdown",
   "id": "4d220e7c",
   "metadata": {},
   "source": [
    "## Загрузка уже готового yml"
   ]
  },
  {
   "cell_type": "code",
   "execution_count": 6,
   "id": "749953d9",
   "metadata": {},
   "outputs": [
    {
     "data": {
      "text/plain": [
       "AnalyticsSpec(business_process=BusinessProcess(name='Анализ продаж интернет-магазина', description='Анализировать продажи и поведение покупателей для повышения выручки и оптимизации маркетинговых кампаний', schedule='0 3 * * *', roles=[{'role': 'Менеджеры по продажам'}, {'role': 'Маркетологи'}, {'role': 'Продуктовый аналитик'}], goals=['Повышение выручки', 'Оптимизация маркетинговых кампаний'], limitations='Ограничения по GDPR'), data_sources=[DataSource(name='orders', description='Таблица заказов', type='database', data_schema={'order_id': 'int', 'product_id': 'int', 'timestamp': 'timestamp', 'customer_id': 'int', 'amount': 'float'}, database='PostgreSQL', access_method='SQL-запросы', data_volume='20000 заказов в день', limitations=None, recommendations=[], connection_params={}), DataSource(name='customers', description='Таблица клиентов', type='database', data_schema={'customer_id': 'int', 'name': 'varchar', 'region_id': 'int', 'age': 'int'}, database='PostgreSQL', access_method='SQL-запросы', data_volume='250000 клиентов', limitations=None, recommendations=[], connection_params={})], metrics=[Metric(name='Общая сумма продаж по дням', description='Сумма продаж за каждый день', calculation_method='SUM(amount) по дням', visualization_method='График', target_value=None, alerting_rules=None), Metric(name='Сумма продаж по регионам', description='Сумма продаж по регионам', calculation_method='SUM(amount) GROUP BY region_id', visualization_method='Диаграмма', target_value=None, alerting_rules=None), Metric(name='Количество уникальных покупателей по регионам', description='Количество уникальных покупателей по регионам', calculation_method='COUNT(DISTINCT customer_id) GROUP BY region_id', visualization_method='Таблица', target_value=None, alerting_rules=None), Metric(name='Средний чек', description='Средний чек по продажам', calculation_method='AVG(amount)', visualization_method='График', target_value=None, alerting_rules=None)], dwh=DWH(database='PostgreSQL', environment='dev', structure='Medallion', limitations='Ограничения по GDPR', connection_params={}, retention_policy={}), transformations=[])"
      ]
     },
     "execution_count": 6,
     "metadata": {},
     "output_type": "execute_result"
    }
   ],
   "source": [
    "filepath = settings.ARTIFACTS_DIRECTORY / \"analytics_spec.yml\"\n",
    "result = spec_gen._from_yml_to_analytics_spec(filepath)\n",
    "result"
   ]
  },
  {
   "cell_type": "markdown",
   "id": "1d1d80f0",
   "metadata": {},
   "source": [
    "## Рекомендации"
   ]
  },
  {
   "cell_type": "code",
   "execution_count": 7,
   "id": "0e6653b1",
   "metadata": {},
   "outputs": [],
   "source": [
    "recommendations = spec_gen.recommendations(business_process=result.business_process,\n",
    "                                           transformations=result.transformations,\n",
    "                                           metrics=result.metrics)"
   ]
  },
  {
   "cell_type": "code",
   "execution_count": 8,
   "id": "5d56045a",
   "metadata": {},
   "outputs": [
    {
     "data": {
      "text/plain": [
       "[{'name': 'Общая сумма продаж по дням',\n",
       "  'description': 'Сумма продаж за каждый день',\n",
       "  'calculation_method': 'SUM(amount) по дням',\n",
       "  'visualization_method': 'График',\n",
       "  'target_value': None,\n",
       "  'alerting_rules': None},\n",
       " {'name': 'Сумма продаж по регионам',\n",
       "  'description': 'Сумма продаж по регионам',\n",
       "  'calculation_method': 'SUM(amount) GROUP BY region_id',\n",
       "  'visualization_method': 'Диаграмма',\n",
       "  'target_value': None,\n",
       "  'alerting_rules': None},\n",
       " {'name': 'Количество уникальных покупателей по регионам',\n",
       "  'description': 'Количество уникальных покупателей по регионам',\n",
       "  'calculation_method': 'COUNT(DISTINCT customer_id) GROUP BY region_id',\n",
       "  'visualization_method': 'Таблица',\n",
       "  'target_value': None,\n",
       "  'alerting_rules': None},\n",
       " {'name': 'Средний чек',\n",
       "  'description': 'Средний чек по продажам',\n",
       "  'calculation_method': 'AVG(amount)',\n",
       "  'visualization_method': 'График',\n",
       "  'target_value': None,\n",
       "  'alerting_rules': None},\n",
       " {'name': 'Коэффициент конверсии',\n",
       "  'description': 'Процент посетителей сайта, совершивших покупку',\n",
       "  'calculation_method': 'COUNT(DISTINCT orders.customer_id) / COUNT(DISTINCT visitors.session_id)',\n",
       "  'visualization_method': 'График',\n",
       "  'target_value': 0.05,\n",
       "  'alerting_rules': 'Оповещение при снижении ниже 5%'},\n",
       " {'name': 'Средний срок до первой покупки',\n",
       "  'description': 'Среднее время между первым визитом и первой покупкой',\n",
       "  'calculation_method': 'AVG(DATEDIFF(first_purchase_date, first_visit_date))',\n",
       "  'visualization_method': 'График',\n",
       "  'target_value': 7,\n",
       "  'alerting_rules': 'Оповещение при превышении 7 дней'},\n",
       " {'name': 'Доля повторных покупок',\n",
       "  'description': 'Процент покупателей, совершивших более одной покупки',\n",
       "  'calculation_method': 'COUNT(DISTINCT repeat_customers) / COUNT(DISTINCT all_customers)',\n",
       "  'visualization_method': 'Диаграмма',\n",
       "  'target_value': 0.2,\n",
       "  'alerting_rules': 'Оповещение при снижении ниже 20%'}]"
      ]
     },
     "execution_count": 8,
     "metadata": {},
     "output_type": "execute_result"
    }
   ],
   "source": [
    "recommendations[\"metrics\"]"
   ]
  },
  {
   "cell_type": "code",
   "execution_count": 9,
   "id": "a2708241",
   "metadata": {},
   "outputs": [
    {
     "data": {
      "text/plain": [
       "[]"
      ]
     },
     "execution_count": 9,
     "metadata": {},
     "output_type": "execute_result"
    }
   ],
   "source": [
    "recommendations[\"transformations\"]"
   ]
  },
  {
   "cell_type": "markdown",
   "id": "0fa511bb",
   "metadata": {},
   "source": [
    "## Описание по блокам"
   ]
  },
  {
   "cell_type": "markdown",
   "id": "7f7beea6",
   "metadata": {},
   "source": [
    "### 1. Бизнес\n",
    "\n",
    "- Название бизнес-процесса? e.g. *Аналитика по продажам интернет-магазина*\n",
    "- Описание целей и стейкхолдеров бизнес-процесса? e.g. *Для увеличения конверсии продаж*\n",
    "- Как часто нужно обновлять отчеты? e.g. *ежедневно в 15:00, каждый час, еженедельно по вторникам и тд*\n",
    "- Есть ли ограничения или особенности, которые нужно учесть? e.g. *дедлайны, регламенты, требования по безопасности*"
   ]
  },
  {
   "cell_type": "code",
   "execution_count": null,
   "id": "b86f4454",
   "metadata": {},
   "outputs": [],
   "source": []
  },
  {
   "cell_type": "markdown",
   "id": "3c3b0451",
   "metadata": {},
   "source": [
    "### 2. Источник данных"
   ]
  },
  {
   "cell_type": "code",
   "execution_count": null,
   "id": "d2bb66af",
   "metadata": {},
   "outputs": [],
   "source": []
  },
  {
   "cell_type": "markdown",
   "id": "dbf5f2d1",
   "metadata": {},
   "source": [
    "### 3. Хранилище данных"
   ]
  },
  {
   "cell_type": "code",
   "execution_count": null,
   "id": "039f3d62",
   "metadata": {},
   "outputs": [],
   "source": []
  },
  {
   "cell_type": "markdown",
   "id": "747feb2b",
   "metadata": {},
   "source": [
    "### 4. Обработка данных"
   ]
  },
  {
   "cell_type": "code",
   "execution_count": null,
   "id": "580298fa",
   "metadata": {},
   "outputs": [],
   "source": []
  },
  {
   "cell_type": "markdown",
   "id": "d0d9e7f7",
   "metadata": {},
   "source": [
    "### 5. Метрики"
   ]
  },
  {
   "cell_type": "code",
   "execution_count": null,
   "id": "4ff88518",
   "metadata": {},
   "outputs": [],
   "source": []
  }
 ],
 "metadata": {
  "kernelspec": {
   "display_name": "venv",
   "language": "python",
   "name": "python3"
  },
  "language_info": {
   "codemirror_mode": {
    "name": "ipython",
    "version": 3
   },
   "file_extension": ".py",
   "mimetype": "text/x-python",
   "name": "python",
   "nbconvert_exporter": "python",
   "pygments_lexer": "ipython3",
   "version": "3.10.12"
  }
 },
 "nbformat": 4,
 "nbformat_minor": 5
}
